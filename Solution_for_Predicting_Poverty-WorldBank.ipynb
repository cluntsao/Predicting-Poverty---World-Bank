{
 "cells": [
  {
   "cell_type": "code",
   "execution_count": 2,
   "metadata": {},
   "outputs": [],
   "source": [
    "import pandas as pd\n",
    "import numpy as np\n",
    "import glob\n",
    "import re\n",
    "import time\n",
    "import gc\n",
    "import lightgbm as lgb\n",
    "import matplotlib.pyplot as plt\n",
    "from sklearn.model_selection import train_test_split, GridSearchCV\n",
    "from sklearn.neighbors import KNeighborsClassifier\n",
    "from sklearn.preprocessing import LabelEncoder\n",
    "from sklearn.linear_model import LogisticRegression\n",
    "from sklearn.metrics import classification_report, log_loss, roc_auc_score, confusion_matrix\n",
    "from sklearn.model_selection import StratifiedKFold, cross_val_score\n",
    "from sklearn.ensemble import RandomForestClassifier\n",
    "from boruta import BorutaPy\n",
    "from scipy import sparse, stats\n",
    "\n",
    "seed = 12345\n",
    "np.random.seed(seed)"
   ]
  },
  {
   "cell_type": "markdown",
   "metadata": {},
   "source": [
    "# Import Data"
   ]
  },
  {
   "cell_type": "code",
   "execution_count": 3,
   "metadata": {},
   "outputs": [],
   "source": [
    "df_train = {}\n",
    "df_test = {}\n",
    "\n",
    "sub = pd.read_csv('C:/Users/user/Desktop/Pover-T Tests Predicting Poverty/submission_format.csv').drop('poor', axis = 1)\n",
    "\n",
    "for file in glob.glob(\"C:/Users/user/Desktop/Pover-T Tests Predicting Poverty/train_data/*_train.csv\"):\n",
    "    label = file.split('\\\\')[1].split('_train')[0]\n",
    "    \n",
    "    if re.match(r'[A-C]_indiv', label):\n",
    "        df_train[label] = pd.read_csv(file, index_col='id').drop(['country', 'iid'], 1)\n",
    "    else:\n",
    "        df_train[label] = pd.read_csv(file, index_col='id').drop(['country'], 1)\n",
    "    \n",
    "for file in glob.glob(\"C:/Users/user/Desktop/Pover-T Tests Predicting Poverty/test_data/*_test.csv\"):\n",
    "    label = file.split('\\\\')[1].split('_test')[0]\n",
    "    \n",
    "    if re.match(r'[A-C]_indiv', label):\n",
    "        df_test[label] = pd.read_csv(file, index_col='id').drop(['country', 'iid'], 1)\n",
    "    else:\n",
    "        df_test[label] = pd.read_csv(file, index_col='id').drop(['country'], 1)"
   ]
  },
  {
   "cell_type": "code",
   "execution_count": 4,
   "metadata": {},
   "outputs": [],
   "source": [
    "# drop all the columns with missing values\n",
    "for datadict in [df_train, df_test]:\n",
    "    for label, df in datadict.items():\n",
    "        df.dropna(axis = 1, how = 'any', inplace = True)"
   ]
  },
  {
   "cell_type": "code",
   "execution_count": 5,
   "metadata": {},
   "outputs": [],
   "source": [
    "# find and label the value that is not contained in both training and test data\n",
    "for label, df in df_train.items():\n",
    "    for col in [i for i in set(df) if df[i].dtype == \"object\"]:\n",
    "        if set(df[col]) != set(df_test[label][col]):\n",
    "            diff = list(set(df[col]) ^ set(df_test[label][col]))\n",
    "            df[col].replace(diff, np.NaN, inplace = True)\n",
    "            df_test[label][col].replace(diff, np.NaN, inplace = True)"
   ]
  },
  {
   "cell_type": "code",
   "execution_count": 6,
   "metadata": {
    "scrolled": false
   },
   "outputs": [
    {
     "name": "stdout",
     "output_type": "stream",
     "text": [
      "Index(['LjvKYNON', 'nSzbETYS', 'tHFrzjai', 'nKoaotpH', 'UjuNwfjv'], dtype='object')\n",
      "Index(['HeUgMnzF', 'NAxEQZVi', 'qqVibbSA'], dtype='object')\n",
      "Index(['euTESpHe', 'FlWJlXVX', 'UwTBTjzr', 'qJMRBMxu', 'HFgaiygl', 'pKbELQat',\n",
      "       'OrCClDbO', 'RVwFIIQe', 'uHXkmVcG', 'mMDEItQt', 'DlEhEQvh', 'tkkjBJlG',\n",
      "       'jueNqsUo', 'knRcLhxE', 'StTakdgB', 'ciizMHyv', 'cqclFkuK', 'IrgyDDcl',\n",
      "       'yZSARGEo', 'kmXNWkcV', 'VMvwrYds', 'ChbSWYhO'],\n",
      "      dtype='object')\n",
      "Index(['GjxOmHgp', 'EfqFGRSF', 'IPBrAaYt', 'HZEsXrsF', 'UkXhNUcd', 'uyhBLPFL',\n",
      "       'jkutpUMt', 'SlqMdbUr', 'jyLFRgZs', 'YwcPaCNf', 'RFLvRzHv', 'mlyFwTHy',\n",
      "       'zXonuRgn', 'ZHOSEFIu', 'XZUEzGLM', 'OFkIQOzS', 'BqXRUQgi', 'gsofZtJJ',\n",
      "       'HQPtUibh', 'RUTkmJrl', 'hnwVYJyV', 'dfchpzYE', 'lLoRmWKX', 'KyTRKtbW',\n",
      "       'zuvYUDSL', 'ljaNZowA', 'JniMXoSr', 'NUefhhHz', 'yNHqwYaJ', 'nkxrhykC',\n",
      "       'OhKTEjVy', 'FHoVOXib', 'OATvAQNG', 'teSzyTms', 'MhvfpnqH', 'qzOZZsuS',\n",
      "       'LSpCPhcU', 'zhbhQewN', 'qxVAoxyX', 'sWADnjxA', 'XIHNcHXI', 'JbDBFPPd',\n",
      "       'aYGuxgyP', 'DWmTWcUm', 'PxgyaWYq'],\n",
      "      dtype='object')\n",
      "Index(['DNnBfiSI', 'nomHWXYi', 'gUzYYakV', 'gZWEypOM', 'ueeRzZmV', 'kZmWbEDL',\n",
      "       'qbMphwEx', 'gLDyDXsb', 'IrEVgBSw', 'enTUTSQi', 'nuMtebks', 'qCEuAGDU',\n",
      "       'YACFXGNR', 'kdkPWxwS', 'HNRJQbcm', 'KnVaKVhK', 'ihACfisf'],\n",
      "      dtype='object')\n",
      "Index([], dtype='object')\n"
     ]
    }
   ],
   "source": [
    "# print the columns of the training data which contain missing values\n",
    "for label, df in df_train.items():\n",
    "    print(df.columns[df.isnull().any()])"
   ]
  },
  {
   "cell_type": "code",
   "execution_count": 7,
   "metadata": {},
   "outputs": [
    {
     "name": "stdout",
     "output_type": "stream",
     "text": [
      "Index([], dtype='object')\n",
      "Index(['zTLPJYTw', 'qqVibbSA', 'RXcLsVAQ'], dtype='object')\n",
      "Index(['RzaXNcgd', 'ZehDbxxy', 'qNlGOBmo', 'WTsZXhAX', 'StTakdgB', 'izDpdZxF',\n",
      "       'TDBNBDil', 'dsUYhgai'],\n",
      "      dtype='object')\n",
      "Index(['GjxOmHgp', 'jyZvBZlo', 'kgVoFHRj', 'cRQWeYKZ', 'wEtnhPQs', 'PwxicsdL',\n",
      "       'XZUEzGLM', 'OFkIQOzS', 'BqXRUQgi', 'eKkwQtwX', 'fwRLKHlN', 'HQPtUibh',\n",
      "       'hnwVYJyV', 'dfchpzYE', 'ljaNZowA', 'JniMXoSr', 'yNHqwYaJ', 'OhKTEjVy',\n",
      "       'OATvAQNG', 'LSpCPhcU', 'qxVAoxyX', 'XIHNcHXI', 'aYGuxgyP', 'DWmTWcUm',\n",
      "       'PxgyaWYq'],\n",
      "      dtype='object')\n",
      "Index(['DNnBfiSI', 'gZWEypOM', 'rcVCcnDz', 'Bknkgmhs', 'IrEVgBSw', 'enTUTSQi',\n",
      "       'nuMtebks'],\n",
      "      dtype='object')\n",
      "Index(['WqmeSStq'], dtype='object')\n"
     ]
    }
   ],
   "source": [
    "# print the columns of the test data which contain missing values\n",
    "for label, df in df_test.items():\n",
    "    print(df.columns[df.isnull().any()])"
   ]
  },
  {
   "cell_type": "code",
   "execution_count": 8,
   "metadata": {},
   "outputs": [],
   "source": [
    "# Use backfill and forwardfill to impute the individual data and most frequent value for the household data\n",
    "for datadict in [df_train, df_test]:\n",
    "    for label, df in datadict.items():\n",
    "        for col in set(df) - set(['poor']) :\n",
    "            if re.match(r'[A-C]_indiv', label):\n",
    "                df[col].fillna(method = 'ffill', inplace = True)\n",
    "                df[col].fillna(method = 'bfill', inplace = True)\n",
    "            else:\n",
    "                df[col].fillna(df[col].value_counts().index[0], inplace = True)"
   ]
  },
  {
   "cell_type": "code",
   "execution_count": 9,
   "metadata": {},
   "outputs": [
    {
     "name": "stdout",
     "output_type": "stream",
     "text": [
      "0\n",
      "0\n",
      "0\n",
      "0\n",
      "0\n",
      "0\n",
      "0\n",
      "0\n",
      "0\n",
      "0\n",
      "0\n",
      "0\n"
     ]
    }
   ],
   "source": [
    "# No more missing values\n",
    "for datadict in [df_train, df_test]:\n",
    "    for label, df in datadict.items():\n",
    "        print(df.isnull().any().sum())"
   ]
  },
  {
   "cell_type": "code",
   "execution_count": 10,
   "metadata": {
    "scrolled": true
   },
   "outputs": [],
   "source": [
    "# Standardize all interval attributes\n",
    "for datadict in [df_train, df_test]:\n",
    "    for key, df in datadict.items():\n",
    "        for col in set(df):\n",
    "            if df[col].dtype in ['int64', 'float64']:\n",
    "                df[col] = stats.zscore(df[col])"
   ]
  },
  {
   "cell_type": "code",
   "execution_count": 11,
   "metadata": {},
   "outputs": [
    {
     "name": "stdout",
     "output_type": "stream",
     "text": [
      "A_hhold (8203, 344)\n",
      "A_indiv (37560, 40)\n",
      "B_hhold (3255, 432)\n",
      "B_indiv (20252, 196)\n",
      "C_hhold (6469, 163)\n",
      "C_indiv (29913, 41)\n",
      "A_hhold (4041, 343)\n",
      "A_indiv (18535, 39)\n",
      "B_hhold (1604, 431)\n",
      "B_indiv (10066, 195)\n",
      "C_hhold (3187, 162)\n",
      "C_indiv (14701, 40)\n"
     ]
    }
   ],
   "source": [
    "for datadict in [df_train, df_test]:\n",
    "    for key, value in datadict.items():\n",
    "        print(key, value.shape)"
   ]
  },
  {
   "cell_type": "code",
   "execution_count": 12,
   "metadata": {},
   "outputs": [
    {
     "data": {
      "text/plain": [
       "10594"
      ]
     },
     "execution_count": 12,
     "metadata": {},
     "output_type": "execute_result"
    }
   ],
   "source": [
    "le = LabelEncoder()\n",
    "\n",
    "# dictionary used to store training data\n",
    "trnd = {}\n",
    "# dictionary used to store test data\n",
    "tstd = {} \n",
    "\n",
    "\n",
    "# Group individual data by mean after creating dummy variables\n",
    "for key, value in df_train.items():\n",
    "    if re.match(r'[A-C]_indiv', key):\n",
    "        value['poor'] = le.fit_transform(value['poor'])\n",
    "        trnd[key] = pd.get_dummies(value).reset_index().groupby('id').mean()\n",
    "    else:\n",
    "        trnd[key] = pd.get_dummies(value)\n",
    "        trnd[key]['poor'] = le.fit_transform(trnd[key]['poor'])\n",
    "                \n",
    "\n",
    "for key, value in df_test.items():\n",
    "    if re.match(r'[A-C]_indiv', key):\n",
    "        tstd[key] = pd.get_dummies(value).reset_index().groupby('id').mean()\n",
    "    else:\n",
    "        tstd[key] = pd.get_dummies(value)\n",
    "        \n",
    "del df_train, df_test\n",
    "gc.collect()"
   ]
  },
  {
   "cell_type": "code",
   "execution_count": 13,
   "metadata": {},
   "outputs": [
    {
     "name": "stdout",
     "output_type": "stream",
     "text": [
      "training dataset: \n",
      "A_hhold (8203, 851)\n",
      "A_indiv (8203, 269)\n",
      "B_hhold (3255, 1401)\n",
      "B_indiv (3255, 1447)\n",
      "C_hhold (6469, 761)\n",
      "C_indiv (6469, 300)\n",
      "test dataset: \n",
      "A_hhold (4041, 850)\n",
      "A_indiv (4041, 268)\n",
      "B_hhold (1604, 1400)\n",
      "B_indiv (1604, 1446)\n",
      "C_hhold (3187, 760)\n",
      "C_indiv (3187, 299)\n"
     ]
    }
   ],
   "source": [
    "#Make sure that training data has one more column (poor) in each set and individual data has same observations as household data\n",
    "\n",
    "\n",
    "print('training dataset: ')\n",
    "for key, value in trnd.items():\n",
    "    print(key, value.shape)\n",
    "\n",
    "print('test dataset: ')\n",
    "for key, value in tstd.items():\n",
    "    print(key, value.shape)"
   ]
  },
  {
   "cell_type": "code",
   "execution_count": 14,
   "metadata": {},
   "outputs": [
    {
     "name": "stdout",
     "output_type": "stream",
     "text": [
      "{'poor'}\n",
      "{'wJthinfa', 'poor'}\n",
      "{'poor'}\n"
     ]
    }
   ],
   "source": [
    "# find duplicate columns\n",
    "print(set(trnd['A_hhold']) & set(trnd['A_indiv']))\n",
    "print(set(trnd['B_hhold']) & set(trnd['B_indiv']))\n",
    "print(set(trnd['C_hhold']) & set(trnd['C_indiv']))"
   ]
  },
  {
   "cell_type": "code",
   "execution_count": 15,
   "metadata": {},
   "outputs": [
    {
     "name": "stdout",
     "output_type": "stream",
     "text": [
      "set()\n",
      "{'wJthinfa'}\n",
      "set()\n"
     ]
    }
   ],
   "source": [
    "print(set(tstd['A_hhold']) & set(tstd['A_indiv']))\n",
    "print(set(tstd['B_hhold']) & set(tstd['B_indiv']))\n",
    "print(set(tstd['C_hhold']) & set(tstd['C_indiv']))"
   ]
  },
  {
   "cell_type": "code",
   "execution_count": 16,
   "metadata": {},
   "outputs": [
    {
     "name": "stdout",
     "output_type": "stream",
     "text": [
      "{'poor'}\n",
      "{'poor'}\n",
      "{'poor'}\n"
     ]
    }
   ],
   "source": [
    "# fix the problem\n",
    "trnd['B_hhold']['WJthinfa'] = trnd['B_hhold']['wJthinfa']\n",
    "trnd['B_hhold'].drop('wJthinfa', 1, inplace = True)\n",
    "\n",
    "tstd['B_hhold']['WJthinfa'] = tstd['B_hhold']['wJthinfa']\n",
    "tstd['B_hhold'].drop('wJthinfa', 1, inplace = True)\n",
    "\n",
    "print(set(trnd['A_hhold']) & set(trnd['A_indiv']))\n",
    "print(set(trnd['B_hhold']) & set(trnd['B_indiv']))\n",
    "print(set(trnd['C_hhold']) & set(trnd['C_indiv']))"
   ]
  },
  {
   "cell_type": "markdown",
   "metadata": {},
   "source": [
    "# +++++++++++++++++++++++++++++++++++++++++++++++++++++++++++++"
   ]
  },
  {
   "cell_type": "markdown",
   "metadata": {},
   "source": [
    "# Modeling process for each country\n",
    "- Feature selection of individual data using Boruta\n",
    "- Combining individual data and household data\n",
    "- 10-fold CV using LGBM\n",
    "- Predict on test data"
   ]
  },
  {
   "cell_type": "markdown",
   "metadata": {},
   "source": [
    "# +++++++++++++++++++++++++++++++++++++++++++++++++++++++++++++"
   ]
  },
  {
   "cell_type": "markdown",
   "metadata": {},
   "source": [
    "# Country A"
   ]
  },
  {
   "cell_type": "markdown",
   "metadata": {},
   "source": [
    "### Feature selection"
   ]
  },
  {
   "cell_type": "code",
   "execution_count": 17,
   "metadata": {},
   "outputs": [],
   "source": [
    "fs_A_y = trnd['A_indiv'].pop('poor')\n",
    "fs_A_X = trnd['A_indiv'].values"
   ]
  },
  {
   "cell_type": "code",
   "execution_count": 18,
   "metadata": {},
   "outputs": [
    {
     "name": "stdout",
     "output_type": "stream",
     "text": [
      "Iteration: \t1 / 100\n",
      "Confirmed: \t0\n",
      "Tentative: \t268\n",
      "Rejected: \t0\n",
      "Iteration: \t2 / 100\n",
      "Confirmed: \t0\n",
      "Tentative: \t268\n",
      "Rejected: \t0\n",
      "Iteration: \t3 / 100\n",
      "Confirmed: \t0\n",
      "Tentative: \t268\n",
      "Rejected: \t0\n",
      "Iteration: \t4 / 100\n",
      "Confirmed: \t0\n",
      "Tentative: \t268\n",
      "Rejected: \t0\n",
      "Iteration: \t5 / 100\n",
      "Confirmed: \t0\n",
      "Tentative: \t268\n",
      "Rejected: \t0\n",
      "Iteration: \t6 / 100\n",
      "Confirmed: \t0\n",
      "Tentative: \t268\n",
      "Rejected: \t0\n",
      "Iteration: \t7 / 100\n",
      "Confirmed: \t0\n",
      "Tentative: \t268\n",
      "Rejected: \t0\n",
      "Iteration: \t8 / 100\n",
      "Confirmed: \t38\n",
      "Tentative: \t89\n",
      "Rejected: \t141\n"
     ]
    },
    {
     "name": "stderr",
     "output_type": "stream",
     "text": [
      "C:\\Users\\user\\Anaconda3\\lib\\site-packages\\boruta\\boruta_py.py:418: RuntimeWarning: invalid value encountered in greater\n",
      "  hits = np.where(cur_imp[0] > imp_sha_max)[0]\n"
     ]
    },
    {
     "name": "stdout",
     "output_type": "stream",
     "text": [
      "Iteration: \t9 / 100\n",
      "Confirmed: \t38\n",
      "Tentative: \t89\n",
      "Rejected: \t141\n"
     ]
    },
    {
     "name": "stderr",
     "output_type": "stream",
     "text": [
      "C:\\Users\\user\\Anaconda3\\lib\\site-packages\\boruta\\boruta_py.py:418: RuntimeWarning: invalid value encountered in greater\n",
      "  hits = np.where(cur_imp[0] > imp_sha_max)[0]\n"
     ]
    },
    {
     "name": "stdout",
     "output_type": "stream",
     "text": [
      "Iteration: \t10 / 100\n",
      "Confirmed: \t38\n",
      "Tentative: \t89\n",
      "Rejected: \t141\n"
     ]
    },
    {
     "name": "stderr",
     "output_type": "stream",
     "text": [
      "C:\\Users\\user\\Anaconda3\\lib\\site-packages\\boruta\\boruta_py.py:418: RuntimeWarning: invalid value encountered in greater\n",
      "  hits = np.where(cur_imp[0] > imp_sha_max)[0]\n"
     ]
    },
    {
     "name": "stdout",
     "output_type": "stream",
     "text": [
      "Iteration: \t11 / 100\n",
      "Confirmed: \t38\n",
      "Tentative: \t89\n",
      "Rejected: \t141\n"
     ]
    },
    {
     "name": "stderr",
     "output_type": "stream",
     "text": [
      "C:\\Users\\user\\Anaconda3\\lib\\site-packages\\boruta\\boruta_py.py:418: RuntimeWarning: invalid value encountered in greater\n",
      "  hits = np.where(cur_imp[0] > imp_sha_max)[0]\n"
     ]
    },
    {
     "name": "stdout",
     "output_type": "stream",
     "text": [
      "Iteration: \t12 / 100\n",
      "Confirmed: \t44\n",
      "Tentative: \t64\n",
      "Rejected: \t160\n"
     ]
    },
    {
     "name": "stderr",
     "output_type": "stream",
     "text": [
      "C:\\Users\\user\\Anaconda3\\lib\\site-packages\\boruta\\boruta_py.py:418: RuntimeWarning: invalid value encountered in greater\n",
      "  hits = np.where(cur_imp[0] > imp_sha_max)[0]\n"
     ]
    },
    {
     "name": "stdout",
     "output_type": "stream",
     "text": [
      "Iteration: \t13 / 100\n",
      "Confirmed: \t44\n",
      "Tentative: \t64\n",
      "Rejected: \t160\n"
     ]
    },
    {
     "name": "stderr",
     "output_type": "stream",
     "text": [
      "C:\\Users\\user\\Anaconda3\\lib\\site-packages\\boruta\\boruta_py.py:418: RuntimeWarning: invalid value encountered in greater\n",
      "  hits = np.where(cur_imp[0] > imp_sha_max)[0]\n"
     ]
    },
    {
     "name": "stdout",
     "output_type": "stream",
     "text": [
      "Iteration: \t14 / 100\n",
      "Confirmed: \t44\n",
      "Tentative: \t64\n",
      "Rejected: \t160\n"
     ]
    },
    {
     "name": "stderr",
     "output_type": "stream",
     "text": [
      "C:\\Users\\user\\Anaconda3\\lib\\site-packages\\boruta\\boruta_py.py:418: RuntimeWarning: invalid value encountered in greater\n",
      "  hits = np.where(cur_imp[0] > imp_sha_max)[0]\n"
     ]
    },
    {
     "name": "stdout",
     "output_type": "stream",
     "text": [
      "Iteration: \t15 / 100\n",
      "Confirmed: \t44\n",
      "Tentative: \t64\n",
      "Rejected: \t160\n"
     ]
    },
    {
     "name": "stderr",
     "output_type": "stream",
     "text": [
      "C:\\Users\\user\\Anaconda3\\lib\\site-packages\\boruta\\boruta_py.py:418: RuntimeWarning: invalid value encountered in greater\n",
      "  hits = np.where(cur_imp[0] > imp_sha_max)[0]\n"
     ]
    },
    {
     "name": "stdout",
     "output_type": "stream",
     "text": [
      "Iteration: \t16 / 100\n",
      "Confirmed: \t46\n",
      "Tentative: \t55\n",
      "Rejected: \t167\n"
     ]
    },
    {
     "name": "stderr",
     "output_type": "stream",
     "text": [
      "C:\\Users\\user\\Anaconda3\\lib\\site-packages\\boruta\\boruta_py.py:418: RuntimeWarning: invalid value encountered in greater\n",
      "  hits = np.where(cur_imp[0] > imp_sha_max)[0]\n"
     ]
    },
    {
     "name": "stdout",
     "output_type": "stream",
     "text": [
      "Iteration: \t17 / 100\n",
      "Confirmed: \t46\n",
      "Tentative: \t55\n",
      "Rejected: \t167\n"
     ]
    },
    {
     "name": "stderr",
     "output_type": "stream",
     "text": [
      "C:\\Users\\user\\Anaconda3\\lib\\site-packages\\boruta\\boruta_py.py:418: RuntimeWarning: invalid value encountered in greater\n",
      "  hits = np.where(cur_imp[0] > imp_sha_max)[0]\n"
     ]
    },
    {
     "name": "stdout",
     "output_type": "stream",
     "text": [
      "Iteration: \t18 / 100\n",
      "Confirmed: \t46\n",
      "Tentative: \t55\n",
      "Rejected: \t167\n"
     ]
    },
    {
     "name": "stderr",
     "output_type": "stream",
     "text": [
      "C:\\Users\\user\\Anaconda3\\lib\\site-packages\\boruta\\boruta_py.py:418: RuntimeWarning: invalid value encountered in greater\n",
      "  hits = np.where(cur_imp[0] > imp_sha_max)[0]\n"
     ]
    },
    {
     "name": "stdout",
     "output_type": "stream",
     "text": [
      "Iteration: \t19 / 100\n",
      "Confirmed: \t46\n",
      "Tentative: \t49\n",
      "Rejected: \t173\n"
     ]
    },
    {
     "name": "stderr",
     "output_type": "stream",
     "text": [
      "C:\\Users\\user\\Anaconda3\\lib\\site-packages\\boruta\\boruta_py.py:418: RuntimeWarning: invalid value encountered in greater\n",
      "  hits = np.where(cur_imp[0] > imp_sha_max)[0]\n"
     ]
    },
    {
     "name": "stdout",
     "output_type": "stream",
     "text": [
      "Iteration: \t20 / 100\n",
      "Confirmed: \t46\n",
      "Tentative: \t49\n",
      "Rejected: \t173\n"
     ]
    },
    {
     "name": "stderr",
     "output_type": "stream",
     "text": [
      "C:\\Users\\user\\Anaconda3\\lib\\site-packages\\boruta\\boruta_py.py:418: RuntimeWarning: invalid value encountered in greater\n",
      "  hits = np.where(cur_imp[0] > imp_sha_max)[0]\n"
     ]
    },
    {
     "name": "stdout",
     "output_type": "stream",
     "text": [
      "Iteration: \t21 / 100\n",
      "Confirmed: \t46\n",
      "Tentative: \t49\n",
      "Rejected: \t173\n"
     ]
    },
    {
     "name": "stderr",
     "output_type": "stream",
     "text": [
      "C:\\Users\\user\\Anaconda3\\lib\\site-packages\\boruta\\boruta_py.py:418: RuntimeWarning: invalid value encountered in greater\n",
      "  hits = np.where(cur_imp[0] > imp_sha_max)[0]\n"
     ]
    },
    {
     "name": "stdout",
     "output_type": "stream",
     "text": [
      "Iteration: \t22 / 100\n",
      "Confirmed: \t47\n",
      "Tentative: \t42\n",
      "Rejected: \t179\n"
     ]
    },
    {
     "name": "stderr",
     "output_type": "stream",
     "text": [
      "C:\\Users\\user\\Anaconda3\\lib\\site-packages\\boruta\\boruta_py.py:418: RuntimeWarning: invalid value encountered in greater\n",
      "  hits = np.where(cur_imp[0] > imp_sha_max)[0]\n"
     ]
    },
    {
     "name": "stdout",
     "output_type": "stream",
     "text": [
      "Iteration: \t23 / 100\n",
      "Confirmed: \t47\n",
      "Tentative: \t42\n",
      "Rejected: \t179\n"
     ]
    },
    {
     "name": "stderr",
     "output_type": "stream",
     "text": [
      "C:\\Users\\user\\Anaconda3\\lib\\site-packages\\boruta\\boruta_py.py:418: RuntimeWarning: invalid value encountered in greater\n",
      "  hits = np.where(cur_imp[0] > imp_sha_max)[0]\n"
     ]
    },
    {
     "name": "stdout",
     "output_type": "stream",
     "text": [
      "Iteration: \t24 / 100\n",
      "Confirmed: \t47\n",
      "Tentative: \t42\n",
      "Rejected: \t179\n"
     ]
    },
    {
     "name": "stderr",
     "output_type": "stream",
     "text": [
      "C:\\Users\\user\\Anaconda3\\lib\\site-packages\\boruta\\boruta_py.py:418: RuntimeWarning: invalid value encountered in greater\n",
      "  hits = np.where(cur_imp[0] > imp_sha_max)[0]\n"
     ]
    },
    {
     "name": "stdout",
     "output_type": "stream",
     "text": [
      "Iteration: \t25 / 100\n",
      "Confirmed: \t47\n",
      "Tentative: \t42\n",
      "Rejected: \t179\n"
     ]
    },
    {
     "name": "stderr",
     "output_type": "stream",
     "text": [
      "C:\\Users\\user\\Anaconda3\\lib\\site-packages\\boruta\\boruta_py.py:418: RuntimeWarning: invalid value encountered in greater\n",
      "  hits = np.where(cur_imp[0] > imp_sha_max)[0]\n"
     ]
    },
    {
     "name": "stdout",
     "output_type": "stream",
     "text": [
      "Iteration: \t26 / 100\n",
      "Confirmed: \t47\n",
      "Tentative: \t38\n",
      "Rejected: \t183\n"
     ]
    },
    {
     "name": "stderr",
     "output_type": "stream",
     "text": [
      "C:\\Users\\user\\Anaconda3\\lib\\site-packages\\boruta\\boruta_py.py:418: RuntimeWarning: invalid value encountered in greater\n",
      "  hits = np.where(cur_imp[0] > imp_sha_max)[0]\n"
     ]
    },
    {
     "name": "stdout",
     "output_type": "stream",
     "text": [
      "Iteration: \t27 / 100\n",
      "Confirmed: \t47\n",
      "Tentative: \t38\n",
      "Rejected: \t183\n"
     ]
    },
    {
     "name": "stderr",
     "output_type": "stream",
     "text": [
      "C:\\Users\\user\\Anaconda3\\lib\\site-packages\\boruta\\boruta_py.py:418: RuntimeWarning: invalid value encountered in greater\n",
      "  hits = np.where(cur_imp[0] > imp_sha_max)[0]\n"
     ]
    },
    {
     "name": "stdout",
     "output_type": "stream",
     "text": [
      "Iteration: \t28 / 100\n",
      "Confirmed: \t47\n",
      "Tentative: \t38\n",
      "Rejected: \t183\n"
     ]
    },
    {
     "name": "stderr",
     "output_type": "stream",
     "text": [
      "C:\\Users\\user\\Anaconda3\\lib\\site-packages\\boruta\\boruta_py.py:418: RuntimeWarning: invalid value encountered in greater\n",
      "  hits = np.where(cur_imp[0] > imp_sha_max)[0]\n"
     ]
    },
    {
     "name": "stdout",
     "output_type": "stream",
     "text": [
      "Iteration: \t29 / 100\n",
      "Confirmed: \t47\n",
      "Tentative: \t38\n",
      "Rejected: \t183\n"
     ]
    },
    {
     "name": "stderr",
     "output_type": "stream",
     "text": [
      "C:\\Users\\user\\Anaconda3\\lib\\site-packages\\boruta\\boruta_py.py:418: RuntimeWarning: invalid value encountered in greater\n",
      "  hits = np.where(cur_imp[0] > imp_sha_max)[0]\n"
     ]
    },
    {
     "name": "stdout",
     "output_type": "stream",
     "text": [
      "Iteration: \t30 / 100\n",
      "Confirmed: \t47\n",
      "Tentative: \t38\n",
      "Rejected: \t183\n"
     ]
    },
    {
     "name": "stderr",
     "output_type": "stream",
     "text": [
      "C:\\Users\\user\\Anaconda3\\lib\\site-packages\\boruta\\boruta_py.py:418: RuntimeWarning: invalid value encountered in greater\n",
      "  hits = np.where(cur_imp[0] > imp_sha_max)[0]\n"
     ]
    },
    {
     "name": "stdout",
     "output_type": "stream",
     "text": [
      "Iteration: \t31 / 100\n",
      "Confirmed: \t47\n",
      "Tentative: \t38\n",
      "Rejected: \t183\n"
     ]
    },
    {
     "name": "stderr",
     "output_type": "stream",
     "text": [
      "C:\\Users\\user\\Anaconda3\\lib\\site-packages\\boruta\\boruta_py.py:418: RuntimeWarning: invalid value encountered in greater\n",
      "  hits = np.where(cur_imp[0] > imp_sha_max)[0]\n"
     ]
    },
    {
     "name": "stdout",
     "output_type": "stream",
     "text": [
      "Iteration: \t32 / 100\n",
      "Confirmed: \t48\n",
      "Tentative: \t35\n",
      "Rejected: \t185\n"
     ]
    },
    {
     "name": "stderr",
     "output_type": "stream",
     "text": [
      "C:\\Users\\user\\Anaconda3\\lib\\site-packages\\boruta\\boruta_py.py:418: RuntimeWarning: invalid value encountered in greater\n",
      "  hits = np.where(cur_imp[0] > imp_sha_max)[0]\n"
     ]
    },
    {
     "name": "stdout",
     "output_type": "stream",
     "text": [
      "Iteration: \t33 / 100\n",
      "Confirmed: \t48\n",
      "Tentative: \t35\n",
      "Rejected: \t185\n"
     ]
    },
    {
     "name": "stderr",
     "output_type": "stream",
     "text": [
      "C:\\Users\\user\\Anaconda3\\lib\\site-packages\\boruta\\boruta_py.py:418: RuntimeWarning: invalid value encountered in greater\n",
      "  hits = np.where(cur_imp[0] > imp_sha_max)[0]\n"
     ]
    },
    {
     "name": "stdout",
     "output_type": "stream",
     "text": [
      "Iteration: \t34 / 100\n",
      "Confirmed: \t50\n",
      "Tentative: \t33\n",
      "Rejected: \t185\n"
     ]
    },
    {
     "name": "stderr",
     "output_type": "stream",
     "text": [
      "C:\\Users\\user\\Anaconda3\\lib\\site-packages\\boruta\\boruta_py.py:418: RuntimeWarning: invalid value encountered in greater\n",
      "  hits = np.where(cur_imp[0] > imp_sha_max)[0]\n"
     ]
    },
    {
     "name": "stdout",
     "output_type": "stream",
     "text": [
      "Iteration: \t35 / 100\n",
      "Confirmed: \t50\n",
      "Tentative: \t33\n",
      "Rejected: \t185\n"
     ]
    },
    {
     "name": "stderr",
     "output_type": "stream",
     "text": [
      "C:\\Users\\user\\Anaconda3\\lib\\site-packages\\boruta\\boruta_py.py:418: RuntimeWarning: invalid value encountered in greater\n",
      "  hits = np.where(cur_imp[0] > imp_sha_max)[0]\n"
     ]
    },
    {
     "name": "stdout",
     "output_type": "stream",
     "text": [
      "Iteration: \t36 / 100\n",
      "Confirmed: \t50\n",
      "Tentative: \t33\n",
      "Rejected: \t185\n"
     ]
    },
    {
     "name": "stderr",
     "output_type": "stream",
     "text": [
      "C:\\Users\\user\\Anaconda3\\lib\\site-packages\\boruta\\boruta_py.py:418: RuntimeWarning: invalid value encountered in greater\n",
      "  hits = np.where(cur_imp[0] > imp_sha_max)[0]\n"
     ]
    },
    {
     "name": "stdout",
     "output_type": "stream",
     "text": [
      "Iteration: \t37 / 100\n",
      "Confirmed: \t51\n",
      "Tentative: \t29\n",
      "Rejected: \t188\n"
     ]
    },
    {
     "name": "stderr",
     "output_type": "stream",
     "text": [
      "C:\\Users\\user\\Anaconda3\\lib\\site-packages\\boruta\\boruta_py.py:418: RuntimeWarning: invalid value encountered in greater\n",
      "  hits = np.where(cur_imp[0] > imp_sha_max)[0]\n"
     ]
    },
    {
     "name": "stdout",
     "output_type": "stream",
     "text": [
      "Iteration: \t38 / 100\n",
      "Confirmed: \t51\n",
      "Tentative: \t29\n",
      "Rejected: \t188\n"
     ]
    },
    {
     "name": "stderr",
     "output_type": "stream",
     "text": [
      "C:\\Users\\user\\Anaconda3\\lib\\site-packages\\boruta\\boruta_py.py:418: RuntimeWarning: invalid value encountered in greater\n",
      "  hits = np.where(cur_imp[0] > imp_sha_max)[0]\n"
     ]
    },
    {
     "name": "stdout",
     "output_type": "stream",
     "text": [
      "Iteration: \t39 / 100\n",
      "Confirmed: \t51\n",
      "Tentative: \t29\n",
      "Rejected: \t188\n"
     ]
    },
    {
     "name": "stderr",
     "output_type": "stream",
     "text": [
      "C:\\Users\\user\\Anaconda3\\lib\\site-packages\\boruta\\boruta_py.py:418: RuntimeWarning: invalid value encountered in greater\n",
      "  hits = np.where(cur_imp[0] > imp_sha_max)[0]\n"
     ]
    },
    {
     "name": "stdout",
     "output_type": "stream",
     "text": [
      "Iteration: \t40 / 100\n",
      "Confirmed: \t51\n",
      "Tentative: \t29\n",
      "Rejected: \t188\n"
     ]
    },
    {
     "name": "stderr",
     "output_type": "stream",
     "text": [
      "C:\\Users\\user\\Anaconda3\\lib\\site-packages\\boruta\\boruta_py.py:418: RuntimeWarning: invalid value encountered in greater\n",
      "  hits = np.where(cur_imp[0] > imp_sha_max)[0]\n"
     ]
    },
    {
     "name": "stdout",
     "output_type": "stream",
     "text": [
      "Iteration: \t41 / 100\n",
      "Confirmed: \t51\n",
      "Tentative: \t29\n",
      "Rejected: \t188\n"
     ]
    },
    {
     "name": "stderr",
     "output_type": "stream",
     "text": [
      "C:\\Users\\user\\Anaconda3\\lib\\site-packages\\boruta\\boruta_py.py:418: RuntimeWarning: invalid value encountered in greater\n",
      "  hits = np.where(cur_imp[0] > imp_sha_max)[0]\n"
     ]
    },
    {
     "name": "stdout",
     "output_type": "stream",
     "text": [
      "Iteration: \t42 / 100\n",
      "Confirmed: \t51\n",
      "Tentative: \t29\n",
      "Rejected: \t188\n"
     ]
    },
    {
     "name": "stderr",
     "output_type": "stream",
     "text": [
      "C:\\Users\\user\\Anaconda3\\lib\\site-packages\\boruta\\boruta_py.py:418: RuntimeWarning: invalid value encountered in greater\n",
      "  hits = np.where(cur_imp[0] > imp_sha_max)[0]\n"
     ]
    },
    {
     "name": "stdout",
     "output_type": "stream",
     "text": [
      "Iteration: \t43 / 100\n",
      "Confirmed: \t52\n",
      "Tentative: \t28\n",
      "Rejected: \t188\n"
     ]
    },
    {
     "name": "stderr",
     "output_type": "stream",
     "text": [
      "C:\\Users\\user\\Anaconda3\\lib\\site-packages\\boruta\\boruta_py.py:418: RuntimeWarning: invalid value encountered in greater\n",
      "  hits = np.where(cur_imp[0] > imp_sha_max)[0]\n"
     ]
    },
    {
     "name": "stdout",
     "output_type": "stream",
     "text": [
      "Iteration: \t44 / 100\n",
      "Confirmed: \t52\n",
      "Tentative: \t28\n",
      "Rejected: \t188\n"
     ]
    },
    {
     "name": "stderr",
     "output_type": "stream",
     "text": [
      "C:\\Users\\user\\Anaconda3\\lib\\site-packages\\boruta\\boruta_py.py:418: RuntimeWarning: invalid value encountered in greater\n",
      "  hits = np.where(cur_imp[0] > imp_sha_max)[0]\n"
     ]
    },
    {
     "name": "stdout",
     "output_type": "stream",
     "text": [
      "Iteration: \t45 / 100\n",
      "Confirmed: \t52\n",
      "Tentative: \t27\n",
      "Rejected: \t189\n"
     ]
    },
    {
     "name": "stderr",
     "output_type": "stream",
     "text": [
      "C:\\Users\\user\\Anaconda3\\lib\\site-packages\\boruta\\boruta_py.py:418: RuntimeWarning: invalid value encountered in greater\n",
      "  hits = np.where(cur_imp[0] > imp_sha_max)[0]\n"
     ]
    },
    {
     "name": "stdout",
     "output_type": "stream",
     "text": [
      "Iteration: \t46 / 100\n",
      "Confirmed: \t52\n",
      "Tentative: \t27\n",
      "Rejected: \t189\n"
     ]
    },
    {
     "name": "stderr",
     "output_type": "stream",
     "text": [
      "C:\\Users\\user\\Anaconda3\\lib\\site-packages\\boruta\\boruta_py.py:418: RuntimeWarning: invalid value encountered in greater\n",
      "  hits = np.where(cur_imp[0] > imp_sha_max)[0]\n"
     ]
    },
    {
     "name": "stdout",
     "output_type": "stream",
     "text": [
      "Iteration: \t47 / 100\n",
      "Confirmed: \t52\n",
      "Tentative: \t27\n",
      "Rejected: \t189\n"
     ]
    },
    {
     "name": "stderr",
     "output_type": "stream",
     "text": [
      "C:\\Users\\user\\Anaconda3\\lib\\site-packages\\boruta\\boruta_py.py:418: RuntimeWarning: invalid value encountered in greater\n",
      "  hits = np.where(cur_imp[0] > imp_sha_max)[0]\n"
     ]
    },
    {
     "name": "stdout",
     "output_type": "stream",
     "text": [
      "Iteration: \t48 / 100\n",
      "Confirmed: \t52\n",
      "Tentative: \t27\n",
      "Rejected: \t189\n"
     ]
    },
    {
     "name": "stderr",
     "output_type": "stream",
     "text": [
      "C:\\Users\\user\\Anaconda3\\lib\\site-packages\\boruta\\boruta_py.py:418: RuntimeWarning: invalid value encountered in greater\n",
      "  hits = np.where(cur_imp[0] > imp_sha_max)[0]\n"
     ]
    },
    {
     "name": "stdout",
     "output_type": "stream",
     "text": [
      "Iteration: \t49 / 100\n",
      "Confirmed: \t52\n",
      "Tentative: \t27\n",
      "Rejected: \t189\n"
     ]
    },
    {
     "name": "stderr",
     "output_type": "stream",
     "text": [
      "C:\\Users\\user\\Anaconda3\\lib\\site-packages\\boruta\\boruta_py.py:418: RuntimeWarning: invalid value encountered in greater\n",
      "  hits = np.where(cur_imp[0] > imp_sha_max)[0]\n"
     ]
    },
    {
     "name": "stdout",
     "output_type": "stream",
     "text": [
      "Iteration: \t50 / 100\n",
      "Confirmed: \t52\n",
      "Tentative: \t26\n",
      "Rejected: \t190\n"
     ]
    },
    {
     "name": "stderr",
     "output_type": "stream",
     "text": [
      "C:\\Users\\user\\Anaconda3\\lib\\site-packages\\boruta\\boruta_py.py:418: RuntimeWarning: invalid value encountered in greater\n",
      "  hits = np.where(cur_imp[0] > imp_sha_max)[0]\n"
     ]
    },
    {
     "name": "stdout",
     "output_type": "stream",
     "text": [
      "Iteration: \t51 / 100\n",
      "Confirmed: \t52\n",
      "Tentative: \t26\n",
      "Rejected: \t190\n"
     ]
    },
    {
     "name": "stderr",
     "output_type": "stream",
     "text": [
      "C:\\Users\\user\\Anaconda3\\lib\\site-packages\\boruta\\boruta_py.py:418: RuntimeWarning: invalid value encountered in greater\n",
      "  hits = np.where(cur_imp[0] > imp_sha_max)[0]\n"
     ]
    },
    {
     "name": "stdout",
     "output_type": "stream",
     "text": [
      "Iteration: \t52 / 100\n",
      "Confirmed: \t52\n",
      "Tentative: \t26\n",
      "Rejected: \t190\n"
     ]
    },
    {
     "name": "stderr",
     "output_type": "stream",
     "text": [
      "C:\\Users\\user\\Anaconda3\\lib\\site-packages\\boruta\\boruta_py.py:418: RuntimeWarning: invalid value encountered in greater\n",
      "  hits = np.where(cur_imp[0] > imp_sha_max)[0]\n"
     ]
    },
    {
     "name": "stdout",
     "output_type": "stream",
     "text": [
      "Iteration: \t53 / 100\n",
      "Confirmed: \t52\n",
      "Tentative: \t26\n",
      "Rejected: \t190\n"
     ]
    },
    {
     "name": "stderr",
     "output_type": "stream",
     "text": [
      "C:\\Users\\user\\Anaconda3\\lib\\site-packages\\boruta\\boruta_py.py:418: RuntimeWarning: invalid value encountered in greater\n",
      "  hits = np.where(cur_imp[0] > imp_sha_max)[0]\n"
     ]
    },
    {
     "name": "stdout",
     "output_type": "stream",
     "text": [
      "Iteration: \t54 / 100\n",
      "Confirmed: \t53\n",
      "Tentative: \t25\n",
      "Rejected: \t190\n"
     ]
    },
    {
     "name": "stderr",
     "output_type": "stream",
     "text": [
      "C:\\Users\\user\\Anaconda3\\lib\\site-packages\\boruta\\boruta_py.py:418: RuntimeWarning: invalid value encountered in greater\n",
      "  hits = np.where(cur_imp[0] > imp_sha_max)[0]\n"
     ]
    },
    {
     "name": "stdout",
     "output_type": "stream",
     "text": [
      "Iteration: \t55 / 100\n",
      "Confirmed: \t53\n",
      "Tentative: \t25\n",
      "Rejected: \t190\n"
     ]
    },
    {
     "name": "stderr",
     "output_type": "stream",
     "text": [
      "C:\\Users\\user\\Anaconda3\\lib\\site-packages\\boruta\\boruta_py.py:418: RuntimeWarning: invalid value encountered in greater\n",
      "  hits = np.where(cur_imp[0] > imp_sha_max)[0]\n"
     ]
    },
    {
     "name": "stdout",
     "output_type": "stream",
     "text": [
      "Iteration: \t56 / 100\n",
      "Confirmed: \t53\n",
      "Tentative: \t25\n",
      "Rejected: \t190\n"
     ]
    },
    {
     "name": "stderr",
     "output_type": "stream",
     "text": [
      "C:\\Users\\user\\Anaconda3\\lib\\site-packages\\boruta\\boruta_py.py:418: RuntimeWarning: invalid value encountered in greater\n",
      "  hits = np.where(cur_imp[0] > imp_sha_max)[0]\n"
     ]
    },
    {
     "name": "stdout",
     "output_type": "stream",
     "text": [
      "Iteration: \t57 / 100\n",
      "Confirmed: \t53\n",
      "Tentative: \t25\n",
      "Rejected: \t190\n"
     ]
    },
    {
     "name": "stderr",
     "output_type": "stream",
     "text": [
      "C:\\Users\\user\\Anaconda3\\lib\\site-packages\\boruta\\boruta_py.py:418: RuntimeWarning: invalid value encountered in greater\n",
      "  hits = np.where(cur_imp[0] > imp_sha_max)[0]\n"
     ]
    },
    {
     "name": "stdout",
     "output_type": "stream",
     "text": [
      "Iteration: \t58 / 100\n",
      "Confirmed: \t53\n",
      "Tentative: \t25\n",
      "Rejected: \t190\n"
     ]
    },
    {
     "name": "stderr",
     "output_type": "stream",
     "text": [
      "C:\\Users\\user\\Anaconda3\\lib\\site-packages\\boruta\\boruta_py.py:418: RuntimeWarning: invalid value encountered in greater\n",
      "  hits = np.where(cur_imp[0] > imp_sha_max)[0]\n"
     ]
    },
    {
     "name": "stdout",
     "output_type": "stream",
     "text": [
      "Iteration: \t59 / 100\n",
      "Confirmed: \t53\n",
      "Tentative: \t25\n",
      "Rejected: \t190\n"
     ]
    },
    {
     "name": "stderr",
     "output_type": "stream",
     "text": [
      "C:\\Users\\user\\Anaconda3\\lib\\site-packages\\boruta\\boruta_py.py:418: RuntimeWarning: invalid value encountered in greater\n",
      "  hits = np.where(cur_imp[0] > imp_sha_max)[0]\n"
     ]
    },
    {
     "name": "stdout",
     "output_type": "stream",
     "text": [
      "Iteration: \t60 / 100\n",
      "Confirmed: \t53\n",
      "Tentative: \t24\n",
      "Rejected: \t191\n"
     ]
    },
    {
     "name": "stderr",
     "output_type": "stream",
     "text": [
      "C:\\Users\\user\\Anaconda3\\lib\\site-packages\\boruta\\boruta_py.py:418: RuntimeWarning: invalid value encountered in greater\n",
      "  hits = np.where(cur_imp[0] > imp_sha_max)[0]\n"
     ]
    },
    {
     "name": "stdout",
     "output_type": "stream",
     "text": [
      "Iteration: \t61 / 100\n",
      "Confirmed: \t53\n",
      "Tentative: \t24\n",
      "Rejected: \t191\n"
     ]
    },
    {
     "name": "stderr",
     "output_type": "stream",
     "text": [
      "C:\\Users\\user\\Anaconda3\\lib\\site-packages\\boruta\\boruta_py.py:418: RuntimeWarning: invalid value encountered in greater\n",
      "  hits = np.where(cur_imp[0] > imp_sha_max)[0]\n"
     ]
    },
    {
     "name": "stdout",
     "output_type": "stream",
     "text": [
      "Iteration: \t62 / 100\n",
      "Confirmed: \t53\n",
      "Tentative: \t24\n",
      "Rejected: \t191\n"
     ]
    },
    {
     "name": "stderr",
     "output_type": "stream",
     "text": [
      "C:\\Users\\user\\Anaconda3\\lib\\site-packages\\boruta\\boruta_py.py:418: RuntimeWarning: invalid value encountered in greater\n",
      "  hits = np.where(cur_imp[0] > imp_sha_max)[0]\n"
     ]
    },
    {
     "name": "stdout",
     "output_type": "stream",
     "text": [
      "Iteration: \t63 / 100\n",
      "Confirmed: \t53\n",
      "Tentative: \t24\n",
      "Rejected: \t191\n"
     ]
    },
    {
     "name": "stderr",
     "output_type": "stream",
     "text": [
      "C:\\Users\\user\\Anaconda3\\lib\\site-packages\\boruta\\boruta_py.py:418: RuntimeWarning: invalid value encountered in greater\n",
      "  hits = np.where(cur_imp[0] > imp_sha_max)[0]\n"
     ]
    },
    {
     "name": "stdout",
     "output_type": "stream",
     "text": [
      "Iteration: \t64 / 100\n",
      "Confirmed: \t53\n",
      "Tentative: \t24\n",
      "Rejected: \t191\n"
     ]
    },
    {
     "name": "stderr",
     "output_type": "stream",
     "text": [
      "C:\\Users\\user\\Anaconda3\\lib\\site-packages\\boruta\\boruta_py.py:418: RuntimeWarning: invalid value encountered in greater\n",
      "  hits = np.where(cur_imp[0] > imp_sha_max)[0]\n"
     ]
    },
    {
     "name": "stdout",
     "output_type": "stream",
     "text": [
      "Iteration: \t65 / 100\n",
      "Confirmed: \t53\n",
      "Tentative: \t23\n",
      "Rejected: \t192\n"
     ]
    },
    {
     "name": "stderr",
     "output_type": "stream",
     "text": [
      "C:\\Users\\user\\Anaconda3\\lib\\site-packages\\boruta\\boruta_py.py:418: RuntimeWarning: invalid value encountered in greater\n",
      "  hits = np.where(cur_imp[0] > imp_sha_max)[0]\n"
     ]
    },
    {
     "name": "stdout",
     "output_type": "stream",
     "text": [
      "Iteration: \t66 / 100\n",
      "Confirmed: \t53\n",
      "Tentative: \t23\n",
      "Rejected: \t192\n"
     ]
    },
    {
     "name": "stderr",
     "output_type": "stream",
     "text": [
      "C:\\Users\\user\\Anaconda3\\lib\\site-packages\\boruta\\boruta_py.py:418: RuntimeWarning: invalid value encountered in greater\n",
      "  hits = np.where(cur_imp[0] > imp_sha_max)[0]\n"
     ]
    },
    {
     "name": "stdout",
     "output_type": "stream",
     "text": [
      "Iteration: \t67 / 100\n",
      "Confirmed: \t53\n",
      "Tentative: \t23\n",
      "Rejected: \t192\n"
     ]
    },
    {
     "name": "stderr",
     "output_type": "stream",
     "text": [
      "C:\\Users\\user\\Anaconda3\\lib\\site-packages\\boruta\\boruta_py.py:418: RuntimeWarning: invalid value encountered in greater\n",
      "  hits = np.where(cur_imp[0] > imp_sha_max)[0]\n"
     ]
    },
    {
     "name": "stdout",
     "output_type": "stream",
     "text": [
      "Iteration: \t68 / 100\n",
      "Confirmed: \t53\n",
      "Tentative: \t23\n",
      "Rejected: \t192\n"
     ]
    },
    {
     "name": "stderr",
     "output_type": "stream",
     "text": [
      "C:\\Users\\user\\Anaconda3\\lib\\site-packages\\boruta\\boruta_py.py:418: RuntimeWarning: invalid value encountered in greater\n",
      "  hits = np.where(cur_imp[0] > imp_sha_max)[0]\n"
     ]
    },
    {
     "name": "stdout",
     "output_type": "stream",
     "text": [
      "Iteration: \t69 / 100\n",
      "Confirmed: \t53\n",
      "Tentative: \t23\n",
      "Rejected: \t192\n"
     ]
    },
    {
     "name": "stderr",
     "output_type": "stream",
     "text": [
      "C:\\Users\\user\\Anaconda3\\lib\\site-packages\\boruta\\boruta_py.py:418: RuntimeWarning: invalid value encountered in greater\n",
      "  hits = np.where(cur_imp[0] > imp_sha_max)[0]\n"
     ]
    },
    {
     "name": "stdout",
     "output_type": "stream",
     "text": [
      "Iteration: \t70 / 100\n",
      "Confirmed: \t54\n",
      "Tentative: \t21\n",
      "Rejected: \t193\n"
     ]
    },
    {
     "name": "stderr",
     "output_type": "stream",
     "text": [
      "C:\\Users\\user\\Anaconda3\\lib\\site-packages\\boruta\\boruta_py.py:418: RuntimeWarning: invalid value encountered in greater\n",
      "  hits = np.where(cur_imp[0] > imp_sha_max)[0]\n"
     ]
    },
    {
     "name": "stdout",
     "output_type": "stream",
     "text": [
      "Iteration: \t71 / 100\n",
      "Confirmed: \t54\n",
      "Tentative: \t21\n",
      "Rejected: \t193\n"
     ]
    },
    {
     "name": "stderr",
     "output_type": "stream",
     "text": [
      "C:\\Users\\user\\Anaconda3\\lib\\site-packages\\boruta\\boruta_py.py:418: RuntimeWarning: invalid value encountered in greater\n",
      "  hits = np.where(cur_imp[0] > imp_sha_max)[0]\n"
     ]
    },
    {
     "name": "stdout",
     "output_type": "stream",
     "text": [
      "Iteration: \t72 / 100\n",
      "Confirmed: \t54\n",
      "Tentative: \t21\n",
      "Rejected: \t193\n"
     ]
    },
    {
     "name": "stderr",
     "output_type": "stream",
     "text": [
      "C:\\Users\\user\\Anaconda3\\lib\\site-packages\\boruta\\boruta_py.py:418: RuntimeWarning: invalid value encountered in greater\n",
      "  hits = np.where(cur_imp[0] > imp_sha_max)[0]\n"
     ]
    },
    {
     "name": "stdout",
     "output_type": "stream",
     "text": [
      "Iteration: \t73 / 100\n",
      "Confirmed: \t54\n",
      "Tentative: \t21\n",
      "Rejected: \t193\n"
     ]
    },
    {
     "name": "stderr",
     "output_type": "stream",
     "text": [
      "C:\\Users\\user\\Anaconda3\\lib\\site-packages\\boruta\\boruta_py.py:418: RuntimeWarning: invalid value encountered in greater\n",
      "  hits = np.where(cur_imp[0] > imp_sha_max)[0]\n"
     ]
    },
    {
     "name": "stdout",
     "output_type": "stream",
     "text": [
      "Iteration: \t74 / 100\n",
      "Confirmed: \t54\n",
      "Tentative: \t21\n",
      "Rejected: \t193\n"
     ]
    },
    {
     "name": "stderr",
     "output_type": "stream",
     "text": [
      "C:\\Users\\user\\Anaconda3\\lib\\site-packages\\boruta\\boruta_py.py:418: RuntimeWarning: invalid value encountered in greater\n",
      "  hits = np.where(cur_imp[0] > imp_sha_max)[0]\n"
     ]
    },
    {
     "name": "stdout",
     "output_type": "stream",
     "text": [
      "Iteration: \t75 / 100\n",
      "Confirmed: \t55\n",
      "Tentative: \t20\n",
      "Rejected: \t193\n"
     ]
    },
    {
     "name": "stderr",
     "output_type": "stream",
     "text": [
      "C:\\Users\\user\\Anaconda3\\lib\\site-packages\\boruta\\boruta_py.py:418: RuntimeWarning: invalid value encountered in greater\n",
      "  hits = np.where(cur_imp[0] > imp_sha_max)[0]\n"
     ]
    },
    {
     "name": "stdout",
     "output_type": "stream",
     "text": [
      "Iteration: \t76 / 100\n",
      "Confirmed: \t55\n",
      "Tentative: \t20\n",
      "Rejected: \t193\n"
     ]
    },
    {
     "name": "stderr",
     "output_type": "stream",
     "text": [
      "C:\\Users\\user\\Anaconda3\\lib\\site-packages\\boruta\\boruta_py.py:418: RuntimeWarning: invalid value encountered in greater\n",
      "  hits = np.where(cur_imp[0] > imp_sha_max)[0]\n"
     ]
    },
    {
     "name": "stdout",
     "output_type": "stream",
     "text": [
      "Iteration: \t77 / 100\n",
      "Confirmed: \t55\n",
      "Tentative: \t20\n",
      "Rejected: \t193\n"
     ]
    },
    {
     "name": "stderr",
     "output_type": "stream",
     "text": [
      "C:\\Users\\user\\Anaconda3\\lib\\site-packages\\boruta\\boruta_py.py:418: RuntimeWarning: invalid value encountered in greater\n",
      "  hits = np.where(cur_imp[0] > imp_sha_max)[0]\n"
     ]
    },
    {
     "name": "stdout",
     "output_type": "stream",
     "text": [
      "Iteration: \t78 / 100\n",
      "Confirmed: \t55\n",
      "Tentative: \t20\n",
      "Rejected: \t193\n"
     ]
    },
    {
     "name": "stderr",
     "output_type": "stream",
     "text": [
      "C:\\Users\\user\\Anaconda3\\lib\\site-packages\\boruta\\boruta_py.py:418: RuntimeWarning: invalid value encountered in greater\n",
      "  hits = np.where(cur_imp[0] > imp_sha_max)[0]\n"
     ]
    },
    {
     "name": "stdout",
     "output_type": "stream",
     "text": [
      "Iteration: \t79 / 100\n",
      "Confirmed: \t55\n",
      "Tentative: \t20\n",
      "Rejected: \t193\n"
     ]
    },
    {
     "name": "stderr",
     "output_type": "stream",
     "text": [
      "C:\\Users\\user\\Anaconda3\\lib\\site-packages\\boruta\\boruta_py.py:418: RuntimeWarning: invalid value encountered in greater\n",
      "  hits = np.where(cur_imp[0] > imp_sha_max)[0]\n"
     ]
    },
    {
     "name": "stdout",
     "output_type": "stream",
     "text": [
      "Iteration: \t80 / 100\n",
      "Confirmed: \t55\n",
      "Tentative: \t20\n",
      "Rejected: \t193\n"
     ]
    },
    {
     "name": "stderr",
     "output_type": "stream",
     "text": [
      "C:\\Users\\user\\Anaconda3\\lib\\site-packages\\boruta\\boruta_py.py:418: RuntimeWarning: invalid value encountered in greater\n",
      "  hits = np.where(cur_imp[0] > imp_sha_max)[0]\n"
     ]
    },
    {
     "name": "stdout",
     "output_type": "stream",
     "text": [
      "Iteration: \t81 / 100\n",
      "Confirmed: \t55\n",
      "Tentative: \t20\n",
      "Rejected: \t193\n"
     ]
    },
    {
     "name": "stderr",
     "output_type": "stream",
     "text": [
      "C:\\Users\\user\\Anaconda3\\lib\\site-packages\\boruta\\boruta_py.py:418: RuntimeWarning: invalid value encountered in greater\n",
      "  hits = np.where(cur_imp[0] > imp_sha_max)[0]\n"
     ]
    },
    {
     "name": "stdout",
     "output_type": "stream",
     "text": [
      "Iteration: \t82 / 100\n",
      "Confirmed: \t55\n",
      "Tentative: \t20\n",
      "Rejected: \t193\n"
     ]
    },
    {
     "name": "stderr",
     "output_type": "stream",
     "text": [
      "C:\\Users\\user\\Anaconda3\\lib\\site-packages\\boruta\\boruta_py.py:418: RuntimeWarning: invalid value encountered in greater\n",
      "  hits = np.where(cur_imp[0] > imp_sha_max)[0]\n"
     ]
    },
    {
     "name": "stdout",
     "output_type": "stream",
     "text": [
      "Iteration: \t83 / 100\n",
      "Confirmed: \t55\n",
      "Tentative: \t19\n",
      "Rejected: \t194\n"
     ]
    },
    {
     "name": "stderr",
     "output_type": "stream",
     "text": [
      "C:\\Users\\user\\Anaconda3\\lib\\site-packages\\boruta\\boruta_py.py:418: RuntimeWarning: invalid value encountered in greater\n",
      "  hits = np.where(cur_imp[0] > imp_sha_max)[0]\n"
     ]
    },
    {
     "name": "stdout",
     "output_type": "stream",
     "text": [
      "Iteration: \t84 / 100\n",
      "Confirmed: \t55\n",
      "Tentative: \t19\n",
      "Rejected: \t194\n"
     ]
    },
    {
     "name": "stderr",
     "output_type": "stream",
     "text": [
      "C:\\Users\\user\\Anaconda3\\lib\\site-packages\\boruta\\boruta_py.py:418: RuntimeWarning: invalid value encountered in greater\n",
      "  hits = np.where(cur_imp[0] > imp_sha_max)[0]\n"
     ]
    },
    {
     "name": "stdout",
     "output_type": "stream",
     "text": [
      "Iteration: \t85 / 100\n",
      "Confirmed: \t55\n",
      "Tentative: \t18\n",
      "Rejected: \t195\n"
     ]
    },
    {
     "name": "stderr",
     "output_type": "stream",
     "text": [
      "C:\\Users\\user\\Anaconda3\\lib\\site-packages\\boruta\\boruta_py.py:418: RuntimeWarning: invalid value encountered in greater\n",
      "  hits = np.where(cur_imp[0] > imp_sha_max)[0]\n"
     ]
    },
    {
     "name": "stdout",
     "output_type": "stream",
     "text": [
      "Iteration: \t86 / 100\n",
      "Confirmed: \t55\n",
      "Tentative: \t18\n",
      "Rejected: \t195\n"
     ]
    },
    {
     "name": "stderr",
     "output_type": "stream",
     "text": [
      "C:\\Users\\user\\Anaconda3\\lib\\site-packages\\boruta\\boruta_py.py:418: RuntimeWarning: invalid value encountered in greater\n",
      "  hits = np.where(cur_imp[0] > imp_sha_max)[0]\n"
     ]
    },
    {
     "name": "stdout",
     "output_type": "stream",
     "text": [
      "Iteration: \t87 / 100\n",
      "Confirmed: \t55\n",
      "Tentative: \t18\n",
      "Rejected: \t195\n"
     ]
    },
    {
     "name": "stderr",
     "output_type": "stream",
     "text": [
      "C:\\Users\\user\\Anaconda3\\lib\\site-packages\\boruta\\boruta_py.py:418: RuntimeWarning: invalid value encountered in greater\n",
      "  hits = np.where(cur_imp[0] > imp_sha_max)[0]\n"
     ]
    },
    {
     "name": "stdout",
     "output_type": "stream",
     "text": [
      "Iteration: \t88 / 100\n",
      "Confirmed: \t55\n",
      "Tentative: \t18\n",
      "Rejected: \t195\n"
     ]
    },
    {
     "name": "stderr",
     "output_type": "stream",
     "text": [
      "C:\\Users\\user\\Anaconda3\\lib\\site-packages\\boruta\\boruta_py.py:418: RuntimeWarning: invalid value encountered in greater\n",
      "  hits = np.where(cur_imp[0] > imp_sha_max)[0]\n"
     ]
    },
    {
     "name": "stdout",
     "output_type": "stream",
     "text": [
      "Iteration: \t89 / 100\n",
      "Confirmed: \t55\n",
      "Tentative: \t18\n",
      "Rejected: \t195\n"
     ]
    },
    {
     "name": "stderr",
     "output_type": "stream",
     "text": [
      "C:\\Users\\user\\Anaconda3\\lib\\site-packages\\boruta\\boruta_py.py:418: RuntimeWarning: invalid value encountered in greater\n",
      "  hits = np.where(cur_imp[0] > imp_sha_max)[0]\n"
     ]
    },
    {
     "name": "stdout",
     "output_type": "stream",
     "text": [
      "Iteration: \t90 / 100\n",
      "Confirmed: \t55\n",
      "Tentative: \t16\n",
      "Rejected: \t197\n"
     ]
    },
    {
     "name": "stderr",
     "output_type": "stream",
     "text": [
      "C:\\Users\\user\\Anaconda3\\lib\\site-packages\\boruta\\boruta_py.py:418: RuntimeWarning: invalid value encountered in greater\n",
      "  hits = np.where(cur_imp[0] > imp_sha_max)[0]\n"
     ]
    },
    {
     "name": "stdout",
     "output_type": "stream",
     "text": [
      "Iteration: \t91 / 100\n",
      "Confirmed: \t55\n",
      "Tentative: \t16\n",
      "Rejected: \t197\n"
     ]
    },
    {
     "name": "stderr",
     "output_type": "stream",
     "text": [
      "C:\\Users\\user\\Anaconda3\\lib\\site-packages\\boruta\\boruta_py.py:418: RuntimeWarning: invalid value encountered in greater\n",
      "  hits = np.where(cur_imp[0] > imp_sha_max)[0]\n"
     ]
    },
    {
     "name": "stdout",
     "output_type": "stream",
     "text": [
      "Iteration: \t92 / 100\n",
      "Confirmed: \t55\n",
      "Tentative: \t16\n",
      "Rejected: \t197\n"
     ]
    },
    {
     "name": "stderr",
     "output_type": "stream",
     "text": [
      "C:\\Users\\user\\Anaconda3\\lib\\site-packages\\boruta\\boruta_py.py:418: RuntimeWarning: invalid value encountered in greater\n",
      "  hits = np.where(cur_imp[0] > imp_sha_max)[0]\n"
     ]
    },
    {
     "name": "stdout",
     "output_type": "stream",
     "text": [
      "Iteration: \t93 / 100\n",
      "Confirmed: \t55\n",
      "Tentative: \t15\n",
      "Rejected: \t198\n"
     ]
    },
    {
     "name": "stderr",
     "output_type": "stream",
     "text": [
      "C:\\Users\\user\\Anaconda3\\lib\\site-packages\\boruta\\boruta_py.py:418: RuntimeWarning: invalid value encountered in greater\n",
      "  hits = np.where(cur_imp[0] > imp_sha_max)[0]\n"
     ]
    },
    {
     "name": "stdout",
     "output_type": "stream",
     "text": [
      "Iteration: \t94 / 100\n",
      "Confirmed: \t55\n",
      "Tentative: \t15\n",
      "Rejected: \t198\n"
     ]
    },
    {
     "name": "stderr",
     "output_type": "stream",
     "text": [
      "C:\\Users\\user\\Anaconda3\\lib\\site-packages\\boruta\\boruta_py.py:418: RuntimeWarning: invalid value encountered in greater\n",
      "  hits = np.where(cur_imp[0] > imp_sha_max)[0]\n"
     ]
    },
    {
     "name": "stdout",
     "output_type": "stream",
     "text": [
      "Iteration: \t95 / 100\n",
      "Confirmed: \t55\n",
      "Tentative: \t15\n",
      "Rejected: \t198\n"
     ]
    },
    {
     "name": "stderr",
     "output_type": "stream",
     "text": [
      "C:\\Users\\user\\Anaconda3\\lib\\site-packages\\boruta\\boruta_py.py:418: RuntimeWarning: invalid value encountered in greater\n",
      "  hits = np.where(cur_imp[0] > imp_sha_max)[0]\n"
     ]
    },
    {
     "name": "stdout",
     "output_type": "stream",
     "text": [
      "Iteration: \t96 / 100\n",
      "Confirmed: \t55\n",
      "Tentative: \t15\n",
      "Rejected: \t198\n"
     ]
    },
    {
     "name": "stderr",
     "output_type": "stream",
     "text": [
      "C:\\Users\\user\\Anaconda3\\lib\\site-packages\\boruta\\boruta_py.py:418: RuntimeWarning: invalid value encountered in greater\n",
      "  hits = np.where(cur_imp[0] > imp_sha_max)[0]\n"
     ]
    },
    {
     "name": "stdout",
     "output_type": "stream",
     "text": [
      "Iteration: \t97 / 100\n",
      "Confirmed: \t55\n",
      "Tentative: \t15\n",
      "Rejected: \t198\n"
     ]
    },
    {
     "name": "stderr",
     "output_type": "stream",
     "text": [
      "C:\\Users\\user\\Anaconda3\\lib\\site-packages\\boruta\\boruta_py.py:418: RuntimeWarning: invalid value encountered in greater\n",
      "  hits = np.where(cur_imp[0] > imp_sha_max)[0]\n"
     ]
    },
    {
     "name": "stdout",
     "output_type": "stream",
     "text": [
      "Iteration: \t98 / 100\n",
      "Confirmed: \t55\n",
      "Tentative: \t15\n",
      "Rejected: \t198\n",
      "Iteration: \t99 / 100\n",
      "Confirmed: \t55\n",
      "Tentative: \t15\n",
      "Rejected: \t198\n",
      "\n",
      "\n",
      "BorutaPy finished running.\n",
      "\n",
      "Iteration: \t100 / 100\n",
      "Confirmed: \t55\n",
      "Tentative: \t10\n",
      "Rejected: \t198\n"
     ]
    },
    {
     "name": "stderr",
     "output_type": "stream",
     "text": [
      "C:\\Users\\user\\Anaconda3\\lib\\site-packages\\boruta\\boruta_py.py:418: RuntimeWarning: invalid value encountered in greater\n",
      "  hits = np.where(cur_imp[0] > imp_sha_max)[0]\n"
     ]
    },
    {
     "data": {
      "text/plain": [
       "BorutaPy(alpha=0.05,\n",
       "     estimator=RandomForestClassifier(bootstrap=True, class_weight='balanced',\n",
       "            criterion='gini', max_depth=4, max_features='auto',\n",
       "            max_leaf_nodes=None, min_impurity_decrease=0.0,\n",
       "            min_impurity_split=None, min_samples_leaf=1,\n",
       "            min_samples_split=2, min_weight_fraction_leaf=0.0,\n",
       "            n_estimators=30, n_jobs=-1, oob_score=False,\n",
       "            random_state=<mtrand.RandomState object at 0x0000029B81430240>,\n",
       "            verbose=0, warm_start=False),\n",
       "     max_iter=100, n_estimators=30, perc=100,\n",
       "     random_state=<mtrand.RandomState object at 0x0000029B81430240>,\n",
       "     two_step=True, verbose=2)"
      ]
     },
     "execution_count": 18,
     "metadata": {},
     "output_type": "execute_result"
    }
   ],
   "source": [
    "rf = RandomForestClassifier(n_jobs=-1, class_weight='balanced', max_depth=4)\n",
    "\n",
    "feat_selector = BorutaPy(rf, n_estimators = 30, verbose=2, random_state=seed)\n",
    "\n",
    "feat_selector.fit(fs_A_X, fs_A_y)"
   ]
  },
  {
   "cell_type": "markdown",
   "metadata": {},
   "source": [
    "### Combining individual data and household data"
   ]
  },
  {
   "cell_type": "code",
   "execution_count": 19,
   "metadata": {},
   "outputs": [],
   "source": [
    "A = pd.concat((trnd[\"A_indiv\"].loc[:, feat_selector.support_], trnd['A_hhold']), 1)\n",
    "\n",
    "X_A = A.drop('poor', 1)\n",
    "\n",
    "y_A = A.poor\n",
    "\n",
    "test_A = pd.concat((tstd['A_indiv'], tstd['A_hhold']), 1)[X_A.columns]"
   ]
  },
  {
   "cell_type": "code",
   "execution_count": 20,
   "metadata": {},
   "outputs": [
    {
     "name": "stdout",
     "output_type": "stream",
     "text": [
      "(8203, 905) <class 'pandas.core.frame.DataFrame'>\n",
      "(4041, 905) <class 'pandas.core.frame.DataFrame'>\n",
      "(8203,) <class 'pandas.core.series.Series'>\n"
     ]
    }
   ],
   "source": [
    "print(X_A.shape, type(X_A))\n",
    "print(test_A.shape, type(test_A))\n",
    "print(y_A.shape, type(y_A))"
   ]
  },
  {
   "cell_type": "markdown",
   "metadata": {},
   "source": [
    "# LGBM"
   ]
  },
  {
   "cell_type": "code",
   "execution_count": 23,
   "metadata": {},
   "outputs": [
    {
     "name": "stdout",
     "output_type": "stream",
     "text": [
      "start CV\n",
      "Average log loss: 0.27433463152927423 stddev : 0.019140474626791307\n",
      "finish cv! : 92.53198647499084 seconds\n"
     ]
    }
   ],
   "source": [
    "print('start CV')\n",
    "start = time.time()\n",
    "\n",
    "kfold = StratifiedKFold(n_splits=10, shuffle=True, random_state=seed)\n",
    "\n",
    "lgbm_A = []\n",
    "\n",
    "best_round = []\n",
    "\n",
    "for train, test in kfold.split(X_A.values, y_A.values):\n",
    "\n",
    "    lgb_train = lgb.Dataset(X_A.values[train], y_A.values[train], free_raw_data=False)\n",
    "\n",
    "    lgb_eval = lgb.Dataset(X_A.values[test], y_A.values[test], reference=lgb_train, free_raw_data=False)\n",
    "\n",
    "    params = {'boosting_type': 'gbdt',\n",
    "              'objective': 'binary',\n",
    "              'metric': 'binary_logloss',\n",
    "              'num_leaves': 31,\n",
    "              'max_bin' : 500,\n",
    "              'feature_fraction': 0.9,\n",
    "              'bagging_fraction': 0.8,\n",
    "              'bagging_freq': 5,\n",
    "              'verbose': 1,\n",
    "              'lambda_l2' : 1,\n",
    "              'lambda_l1' : 1,\n",
    "              'is_unbalance' : False, \n",
    "              'learning_rate' : 0.015}\n",
    "\n",
    "    lgbm = lgb.train(params=params, \n",
    "                      train_set=lgb_train, \n",
    "                      num_boost_round=2000, \n",
    "                      valid_sets=lgb_eval, \n",
    "                      verbose_eval = 0,\n",
    "                      early_stopping_rounds = 200)\n",
    "\n",
    "    best_round.append(lgbm.best_iteration)\n",
    "\n",
    "    lgbm_A.append(lgbm.best_score['valid_0']['binary_logloss'])\n",
    "\n",
    "print(\"Average log loss: {} stddev : {}\".format(np.mean(lgbm_A), np.std(lgbm_A)))\n",
    "\n",
    "print('finish cv! : {} seconds'.format(time.time() - start))"
   ]
  },
  {
   "cell_type": "code",
   "execution_count": 24,
   "metadata": {},
   "outputs": [],
   "source": [
    "# Train the whole data\n",
    "original_A = lgb.Dataset(X_A, y_A, free_raw_data=False)\n",
    "\n",
    "lgbm = lgb.train(train_set = original_A, num_boost_round=np.max(best_round), params = params)"
   ]
  },
  {
   "cell_type": "code",
   "execution_count": 25,
   "metadata": {
    "scrolled": true
   },
   "outputs": [],
   "source": [
    "sub_A = {'id' : test_A.index,\n",
    "         'poor' : lgbm.predict(test_A)}\n",
    "\n",
    "sub_A = pd.DataFrame(sub_A)"
   ]
  },
  {
   "cell_type": "code",
   "execution_count": 26,
   "metadata": {
    "scrolled": true
   },
   "outputs": [
    {
     "data": {
      "image/png": "[encoded data removed]",
      "text/plain": [
       "<matplotlib.figure.Figure at 0x29bfb481828>"
      ]
     },
     "metadata": {},
     "output_type": "display_data"
    }
   ],
   "source": [
    "_ = sub_A.hist('poor')\n",
    "plt.show()"
   ]
  },
  {
   "cell_type": "markdown",
   "metadata": {},
   "source": [
    "# +++++++++++++++++++++++++++++++++++++++++++++++++++++++++++++"
   ]
  },
  {
   "cell_type": "markdown",
   "metadata": {},
   "source": [
    "# Country B"
   ]
  },
  {
   "cell_type": "markdown",
   "metadata": {},
   "source": [
    "### Feature selection"
   ]
  },
  {
   "cell_type": "code",
   "execution_count": 27,
   "metadata": {},
   "outputs": [],
   "source": [
    "fs_B_y = trnd['B_indiv'].pop('poor')\n",
    "fs_B_X = trnd['B_indiv'].values"
   ]
  },
  {
   "cell_type": "code",
   "execution_count": 28,
   "metadata": {},
   "outputs": [
    {
     "name": "stdout",
     "output_type": "stream",
     "text": [
      "Iteration: \t1 / 100\n",
      "Confirmed: \t0\n",
      "Tentative: \t1446\n",
      "Rejected: \t0\n",
      "Iteration: \t2 / 100\n",
      "Confirmed: \t0\n",
      "Tentative: \t1446\n",
      "Rejected: \t0\n",
      "Iteration: \t3 / 100\n",
      "Confirmed: \t0\n",
      "Tentative: \t1446\n",
      "Rejected: \t0\n",
      "Iteration: \t4 / 100\n",
      "Confirmed: \t0\n",
      "Tentative: \t1446\n",
      "Rejected: \t0\n",
      "Iteration: \t5 / 100\n",
      "Confirmed: \t0\n",
      "Tentative: \t1446\n",
      "Rejected: \t0\n",
      "Iteration: \t6 / 100\n",
      "Confirmed: \t0\n",
      "Tentative: \t1446\n",
      "Rejected: \t0\n",
      "Iteration: \t7 / 100\n",
      "Confirmed: \t0\n",
      "Tentative: \t1446\n",
      "Rejected: \t0\n",
      "Iteration: \t8 / 100\n",
      "Confirmed: \t0\n",
      "Tentative: \t152\n",
      "Rejected: \t1294\n"
     ]
    },
    {
     "name": "stderr",
     "output_type": "stream",
     "text": [
      "C:\\Users\\user\\Anaconda3\\lib\\site-packages\\boruta\\boruta_py.py:418: RuntimeWarning: invalid value encountered in greater\n",
      "  hits = np.where(cur_imp[0] > imp_sha_max)[0]\n"
     ]
    },
    {
     "name": "stdout",
     "output_type": "stream",
     "text": [
      "Iteration: \t9 / 100\n",
      "Confirmed: \t0\n",
      "Tentative: \t152\n",
      "Rejected: \t1294\n"
     ]
    },
    {
     "name": "stderr",
     "output_type": "stream",
     "text": [
      "C:\\Users\\user\\Anaconda3\\lib\\site-packages\\boruta\\boruta_py.py:418: RuntimeWarning: invalid value encountered in greater\n",
      "  hits = np.where(cur_imp[0] > imp_sha_max)[0]\n"
     ]
    },
    {
     "name": "stdout",
     "output_type": "stream",
     "text": [
      "Iteration: \t10 / 100\n",
      "Confirmed: \t0\n",
      "Tentative: \t152\n",
      "Rejected: \t1294\n"
     ]
    },
    {
     "name": "stderr",
     "output_type": "stream",
     "text": [
      "C:\\Users\\user\\Anaconda3\\lib\\site-packages\\boruta\\boruta_py.py:418: RuntimeWarning: invalid value encountered in greater\n",
      "  hits = np.where(cur_imp[0] > imp_sha_max)[0]\n"
     ]
    },
    {
     "name": "stdout",
     "output_type": "stream",
     "text": [
      "Iteration: \t11 / 100\n",
      "Confirmed: \t0\n",
      "Tentative: \t152\n",
      "Rejected: \t1294\n"
     ]
    },
    {
     "name": "stderr",
     "output_type": "stream",
     "text": [
      "C:\\Users\\user\\Anaconda3\\lib\\site-packages\\boruta\\boruta_py.py:418: RuntimeWarning: invalid value encountered in greater\n",
      "  hits = np.where(cur_imp[0] > imp_sha_max)[0]\n"
     ]
    },
    {
     "name": "stdout",
     "output_type": "stream",
     "text": [
      "Iteration: \t12 / 100\n",
      "Confirmed: \t0\n",
      "Tentative: \t103\n",
      "Rejected: \t1343\n"
     ]
    },
    {
     "name": "stderr",
     "output_type": "stream",
     "text": [
      "C:\\Users\\user\\Anaconda3\\lib\\site-packages\\boruta\\boruta_py.py:418: RuntimeWarning: invalid value encountered in greater\n",
      "  hits = np.where(cur_imp[0] > imp_sha_max)[0]\n"
     ]
    },
    {
     "name": "stdout",
     "output_type": "stream",
     "text": [
      "Iteration: \t13 / 100\n",
      "Confirmed: \t0\n",
      "Tentative: \t103\n",
      "Rejected: \t1343\n"
     ]
    },
    {
     "name": "stderr",
     "output_type": "stream",
     "text": [
      "C:\\Users\\user\\Anaconda3\\lib\\site-packages\\boruta\\boruta_py.py:418: RuntimeWarning: invalid value encountered in greater\n",
      "  hits = np.where(cur_imp[0] > imp_sha_max)[0]\n"
     ]
    },
    {
     "name": "stdout",
     "output_type": "stream",
     "text": [
      "Iteration: \t14 / 100\n",
      "Confirmed: \t0\n",
      "Tentative: \t103\n",
      "Rejected: \t1343\n"
     ]
    },
    {
     "name": "stderr",
     "output_type": "stream",
     "text": [
      "C:\\Users\\user\\Anaconda3\\lib\\site-packages\\boruta\\boruta_py.py:418: RuntimeWarning: invalid value encountered in greater\n",
      "  hits = np.where(cur_imp[0] > imp_sha_max)[0]\n"
     ]
    },
    {
     "name": "stdout",
     "output_type": "stream",
     "text": [
      "Iteration: \t15 / 100\n",
      "Confirmed: \t0\n",
      "Tentative: \t103\n",
      "Rejected: \t1343\n"
     ]
    },
    {
     "name": "stderr",
     "output_type": "stream",
     "text": [
      "C:\\Users\\user\\Anaconda3\\lib\\site-packages\\boruta\\boruta_py.py:418: RuntimeWarning: invalid value encountered in greater\n",
      "  hits = np.where(cur_imp[0] > imp_sha_max)[0]\n"
     ]
    },
    {
     "name": "stdout",
     "output_type": "stream",
     "text": [
      "Iteration: \t16 / 100\n",
      "Confirmed: \t0\n",
      "Tentative: \t77\n",
      "Rejected: \t1369\n"
     ]
    },
    {
     "name": "stderr",
     "output_type": "stream",
     "text": [
      "C:\\Users\\user\\Anaconda3\\lib\\site-packages\\boruta\\boruta_py.py:418: RuntimeWarning: invalid value encountered in greater\n",
      "  hits = np.where(cur_imp[0] > imp_sha_max)[0]\n"
     ]
    },
    {
     "name": "stdout",
     "output_type": "stream",
     "text": [
      "Iteration: \t17 / 100\n",
      "Confirmed: \t0\n",
      "Tentative: \t77\n",
      "Rejected: \t1369\n"
     ]
    },
    {
     "name": "stderr",
     "output_type": "stream",
     "text": [
      "C:\\Users\\user\\Anaconda3\\lib\\site-packages\\boruta\\boruta_py.py:418: RuntimeWarning: invalid value encountered in greater\n",
      "  hits = np.where(cur_imp[0] > imp_sha_max)[0]\n"
     ]
    },
    {
     "name": "stdout",
     "output_type": "stream",
     "text": [
      "Iteration: \t18 / 100\n",
      "Confirmed: \t0\n",
      "Tentative: \t77\n",
      "Rejected: \t1369\n"
     ]
    },
    {
     "name": "stderr",
     "output_type": "stream",
     "text": [
      "C:\\Users\\user\\Anaconda3\\lib\\site-packages\\boruta\\boruta_py.py:418: RuntimeWarning: invalid value encountered in greater\n",
      "  hits = np.where(cur_imp[0] > imp_sha_max)[0]\n"
     ]
    },
    {
     "name": "stdout",
     "output_type": "stream",
     "text": [
      "Iteration: \t19 / 100\n",
      "Confirmed: \t0\n",
      "Tentative: \t65\n",
      "Rejected: \t1381\n"
     ]
    },
    {
     "name": "stderr",
     "output_type": "stream",
     "text": [
      "C:\\Users\\user\\Anaconda3\\lib\\site-packages\\boruta\\boruta_py.py:418: RuntimeWarning: invalid value encountered in greater\n",
      "  hits = np.where(cur_imp[0] > imp_sha_max)[0]\n"
     ]
    },
    {
     "name": "stdout",
     "output_type": "stream",
     "text": [
      "Iteration: \t20 / 100\n",
      "Confirmed: \t0\n",
      "Tentative: \t65\n",
      "Rejected: \t1381\n"
     ]
    },
    {
     "name": "stderr",
     "output_type": "stream",
     "text": [
      "C:\\Users\\user\\Anaconda3\\lib\\site-packages\\boruta\\boruta_py.py:418: RuntimeWarning: invalid value encountered in greater\n",
      "  hits = np.where(cur_imp[0] > imp_sha_max)[0]\n"
     ]
    },
    {
     "name": "stdout",
     "output_type": "stream",
     "text": [
      "Iteration: \t21 / 100\n",
      "Confirmed: \t0\n",
      "Tentative: \t65\n",
      "Rejected: \t1381\n"
     ]
    },
    {
     "name": "stderr",
     "output_type": "stream",
     "text": [
      "C:\\Users\\user\\Anaconda3\\lib\\site-packages\\boruta\\boruta_py.py:418: RuntimeWarning: invalid value encountered in greater\n",
      "  hits = np.where(cur_imp[0] > imp_sha_max)[0]\n"
     ]
    },
    {
     "name": "stdout",
     "output_type": "stream",
     "text": [
      "Iteration: \t22 / 100\n",
      "Confirmed: \t3\n",
      "Tentative: \t57\n",
      "Rejected: \t1386\n"
     ]
    },
    {
     "name": "stderr",
     "output_type": "stream",
     "text": [
      "C:\\Users\\user\\Anaconda3\\lib\\site-packages\\boruta\\boruta_py.py:418: RuntimeWarning: invalid value encountered in greater\n",
      "  hits = np.where(cur_imp[0] > imp_sha_max)[0]\n"
     ]
    },
    {
     "name": "stdout",
     "output_type": "stream",
     "text": [
      "Iteration: \t23 / 100\n",
      "Confirmed: \t3\n",
      "Tentative: \t57\n",
      "Rejected: \t1386\n"
     ]
    },
    {
     "name": "stderr",
     "output_type": "stream",
     "text": [
      "C:\\Users\\user\\Anaconda3\\lib\\site-packages\\boruta\\boruta_py.py:418: RuntimeWarning: invalid value encountered in greater\n",
      "  hits = np.where(cur_imp[0] > imp_sha_max)[0]\n"
     ]
    },
    {
     "name": "stdout",
     "output_type": "stream",
     "text": [
      "Iteration: \t24 / 100\n",
      "Confirmed: \t3\n",
      "Tentative: \t57\n",
      "Rejected: \t1386\n"
     ]
    },
    {
     "name": "stderr",
     "output_type": "stream",
     "text": [
      "C:\\Users\\user\\Anaconda3\\lib\\site-packages\\boruta\\boruta_py.py:418: RuntimeWarning: invalid value encountered in greater\n",
      "  hits = np.where(cur_imp[0] > imp_sha_max)[0]\n"
     ]
    },
    {
     "name": "stdout",
     "output_type": "stream",
     "text": [
      "Iteration: \t25 / 100\n",
      "Confirmed: \t3\n",
      "Tentative: \t57\n",
      "Rejected: \t1386\n"
     ]
    },
    {
     "name": "stderr",
     "output_type": "stream",
     "text": [
      "C:\\Users\\user\\Anaconda3\\lib\\site-packages\\boruta\\boruta_py.py:418: RuntimeWarning: invalid value encountered in greater\n",
      "  hits = np.where(cur_imp[0] > imp_sha_max)[0]\n"
     ]
    },
    {
     "name": "stdout",
     "output_type": "stream",
     "text": [
      "Iteration: \t26 / 100\n",
      "Confirmed: \t3\n",
      "Tentative: \t57\n",
      "Rejected: \t1386\n"
     ]
    },
    {
     "name": "stderr",
     "output_type": "stream",
     "text": [
      "C:\\Users\\user\\Anaconda3\\lib\\site-packages\\boruta\\boruta_py.py:418: RuntimeWarning: invalid value encountered in greater\n",
      "  hits = np.where(cur_imp[0] > imp_sha_max)[0]\n"
     ]
    },
    {
     "name": "stdout",
     "output_type": "stream",
     "text": [
      "Iteration: \t27 / 100\n",
      "Confirmed: \t3\n",
      "Tentative: \t56\n",
      "Rejected: \t1387\n"
     ]
    },
    {
     "name": "stderr",
     "output_type": "stream",
     "text": [
      "C:\\Users\\user\\Anaconda3\\lib\\site-packages\\boruta\\boruta_py.py:418: RuntimeWarning: invalid value encountered in greater\n",
      "  hits = np.where(cur_imp[0] > imp_sha_max)[0]\n"
     ]
    },
    {
     "name": "stdout",
     "output_type": "stream",
     "text": [
      "Iteration: \t28 / 100\n",
      "Confirmed: \t3\n",
      "Tentative: \t56\n",
      "Rejected: \t1387\n"
     ]
    },
    {
     "name": "stderr",
     "output_type": "stream",
     "text": [
      "C:\\Users\\user\\Anaconda3\\lib\\site-packages\\boruta\\boruta_py.py:418: RuntimeWarning: invalid value encountered in greater\n",
      "  hits = np.where(cur_imp[0] > imp_sha_max)[0]\n"
     ]
    },
    {
     "name": "stdout",
     "output_type": "stream",
     "text": [
      "Iteration: \t29 / 100\n",
      "Confirmed: \t3\n",
      "Tentative: \t55\n",
      "Rejected: \t1388\n"
     ]
    },
    {
     "name": "stderr",
     "output_type": "stream",
     "text": [
      "C:\\Users\\user\\Anaconda3\\lib\\site-packages\\boruta\\boruta_py.py:418: RuntimeWarning: invalid value encountered in greater\n",
      "  hits = np.where(cur_imp[0] > imp_sha_max)[0]\n"
     ]
    },
    {
     "name": "stdout",
     "output_type": "stream",
     "text": [
      "Iteration: \t30 / 100\n",
      "Confirmed: \t3\n",
      "Tentative: \t55\n",
      "Rejected: \t1388\n"
     ]
    },
    {
     "name": "stderr",
     "output_type": "stream",
     "text": [
      "C:\\Users\\user\\Anaconda3\\lib\\site-packages\\boruta\\boruta_py.py:418: RuntimeWarning: invalid value encountered in greater\n",
      "  hits = np.where(cur_imp[0] > imp_sha_max)[0]\n"
     ]
    },
    {
     "name": "stdout",
     "output_type": "stream",
     "text": [
      "Iteration: \t31 / 100\n",
      "Confirmed: \t3\n",
      "Tentative: \t55\n",
      "Rejected: \t1388\n"
     ]
    },
    {
     "name": "stderr",
     "output_type": "stream",
     "text": [
      "C:\\Users\\user\\Anaconda3\\lib\\site-packages\\boruta\\boruta_py.py:418: RuntimeWarning: invalid value encountered in greater\n",
      "  hits = np.where(cur_imp[0] > imp_sha_max)[0]\n"
     ]
    },
    {
     "name": "stdout",
     "output_type": "stream",
     "text": [
      "Iteration: \t32 / 100\n",
      "Confirmed: \t4\n",
      "Tentative: \t52\n",
      "Rejected: \t1390\n"
     ]
    },
    {
     "name": "stderr",
     "output_type": "stream",
     "text": [
      "C:\\Users\\user\\Anaconda3\\lib\\site-packages\\boruta\\boruta_py.py:418: RuntimeWarning: invalid value encountered in greater\n",
      "  hits = np.where(cur_imp[0] > imp_sha_max)[0]\n"
     ]
    },
    {
     "name": "stdout",
     "output_type": "stream",
     "text": [
      "Iteration: \t33 / 100\n",
      "Confirmed: \t4\n",
      "Tentative: \t52\n",
      "Rejected: \t1390\n"
     ]
    },
    {
     "name": "stderr",
     "output_type": "stream",
     "text": [
      "C:\\Users\\user\\Anaconda3\\lib\\site-packages\\boruta\\boruta_py.py:418: RuntimeWarning: invalid value encountered in greater\n",
      "  hits = np.where(cur_imp[0] > imp_sha_max)[0]\n"
     ]
    },
    {
     "name": "stdout",
     "output_type": "stream",
     "text": [
      "Iteration: \t34 / 100\n",
      "Confirmed: \t4\n",
      "Tentative: \t48\n",
      "Rejected: \t1394\n"
     ]
    },
    {
     "name": "stderr",
     "output_type": "stream",
     "text": [
      "C:\\Users\\user\\Anaconda3\\lib\\site-packages\\boruta\\boruta_py.py:418: RuntimeWarning: invalid value encountered in greater\n",
      "  hits = np.where(cur_imp[0] > imp_sha_max)[0]\n"
     ]
    },
    {
     "name": "stdout",
     "output_type": "stream",
     "text": [
      "Iteration: \t35 / 100\n",
      "Confirmed: \t4\n",
      "Tentative: \t48\n",
      "Rejected: \t1394\n"
     ]
    },
    {
     "name": "stderr",
     "output_type": "stream",
     "text": [
      "C:\\Users\\user\\Anaconda3\\lib\\site-packages\\boruta\\boruta_py.py:418: RuntimeWarning: invalid value encountered in greater\n",
      "  hits = np.where(cur_imp[0] > imp_sha_max)[0]\n"
     ]
    },
    {
     "name": "stdout",
     "output_type": "stream",
     "text": [
      "Iteration: \t36 / 100\n",
      "Confirmed: \t4\n",
      "Tentative: \t48\n",
      "Rejected: \t1394\n"
     ]
    },
    {
     "name": "stderr",
     "output_type": "stream",
     "text": [
      "C:\\Users\\user\\Anaconda3\\lib\\site-packages\\boruta\\boruta_py.py:418: RuntimeWarning: invalid value encountered in greater\n",
      "  hits = np.where(cur_imp[0] > imp_sha_max)[0]\n"
     ]
    },
    {
     "name": "stdout",
     "output_type": "stream",
     "text": [
      "Iteration: \t37 / 100\n",
      "Confirmed: \t4\n",
      "Tentative: \t47\n",
      "Rejected: \t1395\n"
     ]
    },
    {
     "name": "stderr",
     "output_type": "stream",
     "text": [
      "C:\\Users\\user\\Anaconda3\\lib\\site-packages\\boruta\\boruta_py.py:418: RuntimeWarning: invalid value encountered in greater\n",
      "  hits = np.where(cur_imp[0] > imp_sha_max)[0]\n"
     ]
    },
    {
     "name": "stdout",
     "output_type": "stream",
     "text": [
      "Iteration: \t38 / 100\n",
      "Confirmed: \t4\n",
      "Tentative: \t47\n",
      "Rejected: \t1395\n"
     ]
    },
    {
     "name": "stderr",
     "output_type": "stream",
     "text": [
      "C:\\Users\\user\\Anaconda3\\lib\\site-packages\\boruta\\boruta_py.py:418: RuntimeWarning: invalid value encountered in greater\n",
      "  hits = np.where(cur_imp[0] > imp_sha_max)[0]\n"
     ]
    },
    {
     "name": "stdout",
     "output_type": "stream",
     "text": [
      "Iteration: \t39 / 100\n",
      "Confirmed: \t4\n",
      "Tentative: \t47\n",
      "Rejected: \t1395\n"
     ]
    },
    {
     "name": "stderr",
     "output_type": "stream",
     "text": [
      "C:\\Users\\user\\Anaconda3\\lib\\site-packages\\boruta\\boruta_py.py:418: RuntimeWarning: invalid value encountered in greater\n",
      "  hits = np.where(cur_imp[0] > imp_sha_max)[0]\n"
     ]
    },
    {
     "name": "stdout",
     "output_type": "stream",
     "text": [
      "Iteration: \t40 / 100\n",
      "Confirmed: \t4\n",
      "Tentative: \t47\n",
      "Rejected: \t1395\n"
     ]
    },
    {
     "name": "stderr",
     "output_type": "stream",
     "text": [
      "C:\\Users\\user\\Anaconda3\\lib\\site-packages\\boruta\\boruta_py.py:418: RuntimeWarning: invalid value encountered in greater\n",
      "  hits = np.where(cur_imp[0] > imp_sha_max)[0]\n"
     ]
    },
    {
     "name": "stdout",
     "output_type": "stream",
     "text": [
      "Iteration: \t41 / 100\n",
      "Confirmed: \t4\n",
      "Tentative: \t47\n",
      "Rejected: \t1395\n"
     ]
    },
    {
     "name": "stderr",
     "output_type": "stream",
     "text": [
      "C:\\Users\\user\\Anaconda3\\lib\\site-packages\\boruta\\boruta_py.py:418: RuntimeWarning: invalid value encountered in greater\n",
      "  hits = np.where(cur_imp[0] > imp_sha_max)[0]\n"
     ]
    },
    {
     "name": "stdout",
     "output_type": "stream",
     "text": [
      "Iteration: \t42 / 100\n",
      "Confirmed: \t4\n",
      "Tentative: \t47\n",
      "Rejected: \t1395\n"
     ]
    },
    {
     "name": "stderr",
     "output_type": "stream",
     "text": [
      "C:\\Users\\user\\Anaconda3\\lib\\site-packages\\boruta\\boruta_py.py:418: RuntimeWarning: invalid value encountered in greater\n",
      "  hits = np.where(cur_imp[0] > imp_sha_max)[0]\n"
     ]
    },
    {
     "name": "stdout",
     "output_type": "stream",
     "text": [
      "Iteration: \t43 / 100\n",
      "Confirmed: \t4\n",
      "Tentative: \t46\n",
      "Rejected: \t1396\n"
     ]
    },
    {
     "name": "stderr",
     "output_type": "stream",
     "text": [
      "C:\\Users\\user\\Anaconda3\\lib\\site-packages\\boruta\\boruta_py.py:418: RuntimeWarning: invalid value encountered in greater\n",
      "  hits = np.where(cur_imp[0] > imp_sha_max)[0]\n"
     ]
    },
    {
     "name": "stdout",
     "output_type": "stream",
     "text": [
      "Iteration: \t44 / 100\n",
      "Confirmed: \t4\n",
      "Tentative: \t46\n",
      "Rejected: \t1396\n"
     ]
    },
    {
     "name": "stderr",
     "output_type": "stream",
     "text": [
      "C:\\Users\\user\\Anaconda3\\lib\\site-packages\\boruta\\boruta_py.py:418: RuntimeWarning: invalid value encountered in greater\n",
      "  hits = np.where(cur_imp[0] > imp_sha_max)[0]\n"
     ]
    },
    {
     "name": "stdout",
     "output_type": "stream",
     "text": [
      "Iteration: \t45 / 100\n",
      "Confirmed: \t4\n",
      "Tentative: \t46\n",
      "Rejected: \t1396\n"
     ]
    },
    {
     "name": "stderr",
     "output_type": "stream",
     "text": [
      "C:\\Users\\user\\Anaconda3\\lib\\site-packages\\boruta\\boruta_py.py:418: RuntimeWarning: invalid value encountered in greater\n",
      "  hits = np.where(cur_imp[0] > imp_sha_max)[0]\n"
     ]
    },
    {
     "name": "stdout",
     "output_type": "stream",
     "text": [
      "Iteration: \t46 / 100\n",
      "Confirmed: \t5\n",
      "Tentative: \t45\n",
      "Rejected: \t1396\n"
     ]
    },
    {
     "name": "stderr",
     "output_type": "stream",
     "text": [
      "C:\\Users\\user\\Anaconda3\\lib\\site-packages\\boruta\\boruta_py.py:418: RuntimeWarning: invalid value encountered in greater\n",
      "  hits = np.where(cur_imp[0] > imp_sha_max)[0]\n"
     ]
    },
    {
     "name": "stdout",
     "output_type": "stream",
     "text": [
      "Iteration: \t47 / 100\n",
      "Confirmed: \t5\n",
      "Tentative: \t45\n",
      "Rejected: \t1396\n"
     ]
    },
    {
     "name": "stderr",
     "output_type": "stream",
     "text": [
      "C:\\Users\\user\\Anaconda3\\lib\\site-packages\\boruta\\boruta_py.py:418: RuntimeWarning: invalid value encountered in greater\n",
      "  hits = np.where(cur_imp[0] > imp_sha_max)[0]\n"
     ]
    },
    {
     "name": "stdout",
     "output_type": "stream",
     "text": [
      "Iteration: \t48 / 100\n",
      "Confirmed: \t5\n",
      "Tentative: \t45\n",
      "Rejected: \t1396\n"
     ]
    },
    {
     "name": "stderr",
     "output_type": "stream",
     "text": [
      "C:\\Users\\user\\Anaconda3\\lib\\site-packages\\boruta\\boruta_py.py:418: RuntimeWarning: invalid value encountered in greater\n",
      "  hits = np.where(cur_imp[0] > imp_sha_max)[0]\n"
     ]
    },
    {
     "name": "stdout",
     "output_type": "stream",
     "text": [
      "Iteration: \t49 / 100\n",
      "Confirmed: \t7\n",
      "Tentative: \t42\n",
      "Rejected: \t1397\n"
     ]
    },
    {
     "name": "stderr",
     "output_type": "stream",
     "text": [
      "C:\\Users\\user\\Anaconda3\\lib\\site-packages\\boruta\\boruta_py.py:418: RuntimeWarning: invalid value encountered in greater\n",
      "  hits = np.where(cur_imp[0] > imp_sha_max)[0]\n"
     ]
    },
    {
     "name": "stdout",
     "output_type": "stream",
     "text": [
      "Iteration: \t50 / 100\n",
      "Confirmed: \t7\n",
      "Tentative: \t42\n",
      "Rejected: \t1397\n"
     ]
    },
    {
     "name": "stderr",
     "output_type": "stream",
     "text": [
      "C:\\Users\\user\\Anaconda3\\lib\\site-packages\\boruta\\boruta_py.py:418: RuntimeWarning: invalid value encountered in greater\n",
      "  hits = np.where(cur_imp[0] > imp_sha_max)[0]\n"
     ]
    },
    {
     "name": "stdout",
     "output_type": "stream",
     "text": [
      "Iteration: \t51 / 100\n",
      "Confirmed: \t7\n",
      "Tentative: \t42\n",
      "Rejected: \t1397\n"
     ]
    },
    {
     "name": "stderr",
     "output_type": "stream",
     "text": [
      "C:\\Users\\user\\Anaconda3\\lib\\site-packages\\boruta\\boruta_py.py:418: RuntimeWarning: invalid value encountered in greater\n",
      "  hits = np.where(cur_imp[0] > imp_sha_max)[0]\n"
     ]
    },
    {
     "name": "stdout",
     "output_type": "stream",
     "text": [
      "Iteration: \t52 / 100\n",
      "Confirmed: \t7\n",
      "Tentative: \t42\n",
      "Rejected: \t1397\n"
     ]
    },
    {
     "name": "stderr",
     "output_type": "stream",
     "text": [
      "C:\\Users\\user\\Anaconda3\\lib\\site-packages\\boruta\\boruta_py.py:418: RuntimeWarning: invalid value encountered in greater\n",
      "  hits = np.where(cur_imp[0] > imp_sha_max)[0]\n"
     ]
    },
    {
     "name": "stdout",
     "output_type": "stream",
     "text": [
      "Iteration: \t53 / 100\n",
      "Confirmed: \t7\n",
      "Tentative: \t42\n",
      "Rejected: \t1397\n"
     ]
    },
    {
     "name": "stderr",
     "output_type": "stream",
     "text": [
      "C:\\Users\\user\\Anaconda3\\lib\\site-packages\\boruta\\boruta_py.py:418: RuntimeWarning: invalid value encountered in greater\n",
      "  hits = np.where(cur_imp[0] > imp_sha_max)[0]\n"
     ]
    },
    {
     "name": "stdout",
     "output_type": "stream",
     "text": [
      "Iteration: \t54 / 100\n",
      "Confirmed: \t7\n",
      "Tentative: \t41\n",
      "Rejected: \t1398\n"
     ]
    },
    {
     "name": "stderr",
     "output_type": "stream",
     "text": [
      "C:\\Users\\user\\Anaconda3\\lib\\site-packages\\boruta\\boruta_py.py:418: RuntimeWarning: invalid value encountered in greater\n",
      "  hits = np.where(cur_imp[0] > imp_sha_max)[0]\n"
     ]
    },
    {
     "name": "stdout",
     "output_type": "stream",
     "text": [
      "Iteration: \t55 / 100\n",
      "Confirmed: \t7\n",
      "Tentative: \t41\n",
      "Rejected: \t1398\n"
     ]
    },
    {
     "name": "stderr",
     "output_type": "stream",
     "text": [
      "C:\\Users\\user\\Anaconda3\\lib\\site-packages\\boruta\\boruta_py.py:418: RuntimeWarning: invalid value encountered in greater\n",
      "  hits = np.where(cur_imp[0] > imp_sha_max)[0]\n"
     ]
    },
    {
     "name": "stdout",
     "output_type": "stream",
     "text": [
      "Iteration: \t56 / 100\n",
      "Confirmed: \t7\n",
      "Tentative: \t41\n",
      "Rejected: \t1398\n"
     ]
    },
    {
     "name": "stderr",
     "output_type": "stream",
     "text": [
      "C:\\Users\\user\\Anaconda3\\lib\\site-packages\\boruta\\boruta_py.py:418: RuntimeWarning: invalid value encountered in greater\n",
      "  hits = np.where(cur_imp[0] > imp_sha_max)[0]\n"
     ]
    },
    {
     "name": "stdout",
     "output_type": "stream",
     "text": [
      "Iteration: \t57 / 100\n",
      "Confirmed: \t7\n",
      "Tentative: \t41\n",
      "Rejected: \t1398\n"
     ]
    },
    {
     "name": "stderr",
     "output_type": "stream",
     "text": [
      "C:\\Users\\user\\Anaconda3\\lib\\site-packages\\boruta\\boruta_py.py:418: RuntimeWarning: invalid value encountered in greater\n",
      "  hits = np.where(cur_imp[0] > imp_sha_max)[0]\n"
     ]
    },
    {
     "name": "stdout",
     "output_type": "stream",
     "text": [
      "Iteration: \t58 / 100\n",
      "Confirmed: \t7\n",
      "Tentative: \t41\n",
      "Rejected: \t1398\n"
     ]
    },
    {
     "name": "stderr",
     "output_type": "stream",
     "text": [
      "C:\\Users\\user\\Anaconda3\\lib\\site-packages\\boruta\\boruta_py.py:418: RuntimeWarning: invalid value encountered in greater\n",
      "  hits = np.where(cur_imp[0] > imp_sha_max)[0]\n"
     ]
    },
    {
     "name": "stdout",
     "output_type": "stream",
     "text": [
      "Iteration: \t59 / 100\n",
      "Confirmed: \t8\n",
      "Tentative: \t40\n",
      "Rejected: \t1398\n"
     ]
    },
    {
     "name": "stderr",
     "output_type": "stream",
     "text": [
      "C:\\Users\\user\\Anaconda3\\lib\\site-packages\\boruta\\boruta_py.py:418: RuntimeWarning: invalid value encountered in greater\n",
      "  hits = np.where(cur_imp[0] > imp_sha_max)[0]\n"
     ]
    },
    {
     "name": "stdout",
     "output_type": "stream",
     "text": [
      "Iteration: \t60 / 100\n",
      "Confirmed: \t8\n",
      "Tentative: \t40\n",
      "Rejected: \t1398\n"
     ]
    },
    {
     "name": "stderr",
     "output_type": "stream",
     "text": [
      "C:\\Users\\user\\Anaconda3\\lib\\site-packages\\boruta\\boruta_py.py:418: RuntimeWarning: invalid value encountered in greater\n",
      "  hits = np.where(cur_imp[0] > imp_sha_max)[0]\n"
     ]
    },
    {
     "name": "stdout",
     "output_type": "stream",
     "text": [
      "Iteration: \t61 / 100\n",
      "Confirmed: \t8\n",
      "Tentative: \t40\n",
      "Rejected: \t1398\n"
     ]
    },
    {
     "name": "stderr",
     "output_type": "stream",
     "text": [
      "C:\\Users\\user\\Anaconda3\\lib\\site-packages\\boruta\\boruta_py.py:418: RuntimeWarning: invalid value encountered in greater\n",
      "  hits = np.where(cur_imp[0] > imp_sha_max)[0]\n"
     ]
    },
    {
     "name": "stdout",
     "output_type": "stream",
     "text": [
      "Iteration: \t62 / 100\n",
      "Confirmed: \t8\n",
      "Tentative: \t40\n",
      "Rejected: \t1398\n"
     ]
    },
    {
     "name": "stderr",
     "output_type": "stream",
     "text": [
      "C:\\Users\\user\\Anaconda3\\lib\\site-packages\\boruta\\boruta_py.py:418: RuntimeWarning: invalid value encountered in greater\n",
      "  hits = np.where(cur_imp[0] > imp_sha_max)[0]\n"
     ]
    },
    {
     "name": "stdout",
     "output_type": "stream",
     "text": [
      "Iteration: \t63 / 100\n",
      "Confirmed: \t8\n",
      "Tentative: \t40\n",
      "Rejected: \t1398\n"
     ]
    },
    {
     "name": "stderr",
     "output_type": "stream",
     "text": [
      "C:\\Users\\user\\Anaconda3\\lib\\site-packages\\boruta\\boruta_py.py:418: RuntimeWarning: invalid value encountered in greater\n",
      "  hits = np.where(cur_imp[0] > imp_sha_max)[0]\n"
     ]
    },
    {
     "name": "stdout",
     "output_type": "stream",
     "text": [
      "Iteration: \t64 / 100\n",
      "Confirmed: \t8\n",
      "Tentative: \t40\n",
      "Rejected: \t1398\n"
     ]
    },
    {
     "name": "stderr",
     "output_type": "stream",
     "text": [
      "C:\\Users\\user\\Anaconda3\\lib\\site-packages\\boruta\\boruta_py.py:418: RuntimeWarning: invalid value encountered in greater\n",
      "  hits = np.where(cur_imp[0] > imp_sha_max)[0]\n"
     ]
    },
    {
     "name": "stdout",
     "output_type": "stream",
     "text": [
      "Iteration: \t65 / 100\n",
      "Confirmed: \t9\n",
      "Tentative: \t38\n",
      "Rejected: \t1399\n"
     ]
    },
    {
     "name": "stderr",
     "output_type": "stream",
     "text": [
      "C:\\Users\\user\\Anaconda3\\lib\\site-packages\\boruta\\boruta_py.py:418: RuntimeWarning: invalid value encountered in greater\n",
      "  hits = np.where(cur_imp[0] > imp_sha_max)[0]\n"
     ]
    },
    {
     "name": "stdout",
     "output_type": "stream",
     "text": [
      "Iteration: \t66 / 100\n",
      "Confirmed: \t9\n",
      "Tentative: \t38\n",
      "Rejected: \t1399\n"
     ]
    },
    {
     "name": "stderr",
     "output_type": "stream",
     "text": [
      "C:\\Users\\user\\Anaconda3\\lib\\site-packages\\boruta\\boruta_py.py:418: RuntimeWarning: invalid value encountered in greater\n",
      "  hits = np.where(cur_imp[0] > imp_sha_max)[0]\n"
     ]
    },
    {
     "name": "stdout",
     "output_type": "stream",
     "text": [
      "Iteration: \t67 / 100\n",
      "Confirmed: \t9\n",
      "Tentative: \t35\n",
      "Rejected: \t1402\n"
     ]
    },
    {
     "name": "stderr",
     "output_type": "stream",
     "text": [
      "C:\\Users\\user\\Anaconda3\\lib\\site-packages\\boruta\\boruta_py.py:418: RuntimeWarning: invalid value encountered in greater\n",
      "  hits = np.where(cur_imp[0] > imp_sha_max)[0]\n"
     ]
    },
    {
     "name": "stdout",
     "output_type": "stream",
     "text": [
      "Iteration: \t68 / 100\n",
      "Confirmed: \t9\n",
      "Tentative: \t35\n",
      "Rejected: \t1402\n"
     ]
    },
    {
     "name": "stderr",
     "output_type": "stream",
     "text": [
      "C:\\Users\\user\\Anaconda3\\lib\\site-packages\\boruta\\boruta_py.py:418: RuntimeWarning: invalid value encountered in greater\n",
      "  hits = np.where(cur_imp[0] > imp_sha_max)[0]\n"
     ]
    },
    {
     "name": "stdout",
     "output_type": "stream",
     "text": [
      "Iteration: \t69 / 100\n",
      "Confirmed: \t9\n",
      "Tentative: \t35\n",
      "Rejected: \t1402\n"
     ]
    },
    {
     "name": "stderr",
     "output_type": "stream",
     "text": [
      "C:\\Users\\user\\Anaconda3\\lib\\site-packages\\boruta\\boruta_py.py:418: RuntimeWarning: invalid value encountered in greater\n",
      "  hits = np.where(cur_imp[0] > imp_sha_max)[0]\n"
     ]
    },
    {
     "name": "stdout",
     "output_type": "stream",
     "text": [
      "Iteration: \t70 / 100\n",
      "Confirmed: \t9\n",
      "Tentative: \t35\n",
      "Rejected: \t1402\n"
     ]
    },
    {
     "name": "stderr",
     "output_type": "stream",
     "text": [
      "C:\\Users\\user\\Anaconda3\\lib\\site-packages\\boruta\\boruta_py.py:418: RuntimeWarning: invalid value encountered in greater\n",
      "  hits = np.where(cur_imp[0] > imp_sha_max)[0]\n"
     ]
    },
    {
     "name": "stdout",
     "output_type": "stream",
     "text": [
      "Iteration: \t71 / 100\n",
      "Confirmed: \t9\n",
      "Tentative: \t35\n",
      "Rejected: \t1402\n"
     ]
    },
    {
     "name": "stderr",
     "output_type": "stream",
     "text": [
      "C:\\Users\\user\\Anaconda3\\lib\\site-packages\\boruta\\boruta_py.py:418: RuntimeWarning: invalid value encountered in greater\n",
      "  hits = np.where(cur_imp[0] > imp_sha_max)[0]\n"
     ]
    },
    {
     "name": "stdout",
     "output_type": "stream",
     "text": [
      "Iteration: \t72 / 100\n",
      "Confirmed: \t9\n",
      "Tentative: \t35\n",
      "Rejected: \t1402\n"
     ]
    },
    {
     "name": "stderr",
     "output_type": "stream",
     "text": [
      "C:\\Users\\user\\Anaconda3\\lib\\site-packages\\boruta\\boruta_py.py:418: RuntimeWarning: invalid value encountered in greater\n",
      "  hits = np.where(cur_imp[0] > imp_sha_max)[0]\n"
     ]
    },
    {
     "name": "stdout",
     "output_type": "stream",
     "text": [
      "Iteration: \t73 / 100\n",
      "Confirmed: \t9\n",
      "Tentative: \t35\n",
      "Rejected: \t1402\n"
     ]
    },
    {
     "name": "stderr",
     "output_type": "stream",
     "text": [
      "C:\\Users\\user\\Anaconda3\\lib\\site-packages\\boruta\\boruta_py.py:418: RuntimeWarning: invalid value encountered in greater\n",
      "  hits = np.where(cur_imp[0] > imp_sha_max)[0]\n"
     ]
    },
    {
     "name": "stdout",
     "output_type": "stream",
     "text": [
      "Iteration: \t74 / 100\n",
      "Confirmed: \t9\n",
      "Tentative: \t35\n",
      "Rejected: \t1402\n"
     ]
    },
    {
     "name": "stderr",
     "output_type": "stream",
     "text": [
      "C:\\Users\\user\\Anaconda3\\lib\\site-packages\\boruta\\boruta_py.py:418: RuntimeWarning: invalid value encountered in greater\n",
      "  hits = np.where(cur_imp[0] > imp_sha_max)[0]\n"
     ]
    },
    {
     "name": "stdout",
     "output_type": "stream",
     "text": [
      "Iteration: \t75 / 100\n",
      "Confirmed: \t9\n",
      "Tentative: \t35\n",
      "Rejected: \t1402\n"
     ]
    },
    {
     "name": "stderr",
     "output_type": "stream",
     "text": [
      "C:\\Users\\user\\Anaconda3\\lib\\site-packages\\boruta\\boruta_py.py:418: RuntimeWarning: invalid value encountered in greater\n",
      "  hits = np.where(cur_imp[0] > imp_sha_max)[0]\n"
     ]
    },
    {
     "name": "stdout",
     "output_type": "stream",
     "text": [
      "Iteration: \t76 / 100\n",
      "Confirmed: \t9\n",
      "Tentative: \t35\n",
      "Rejected: \t1402\n"
     ]
    },
    {
     "name": "stderr",
     "output_type": "stream",
     "text": [
      "C:\\Users\\user\\Anaconda3\\lib\\site-packages\\boruta\\boruta_py.py:418: RuntimeWarning: invalid value encountered in greater\n",
      "  hits = np.where(cur_imp[0] > imp_sha_max)[0]\n"
     ]
    },
    {
     "name": "stdout",
     "output_type": "stream",
     "text": [
      "Iteration: \t77 / 100\n",
      "Confirmed: \t9\n",
      "Tentative: \t35\n",
      "Rejected: \t1402\n"
     ]
    },
    {
     "name": "stderr",
     "output_type": "stream",
     "text": [
      "C:\\Users\\user\\Anaconda3\\lib\\site-packages\\boruta\\boruta_py.py:418: RuntimeWarning: invalid value encountered in greater\n",
      "  hits = np.where(cur_imp[0] > imp_sha_max)[0]\n"
     ]
    },
    {
     "name": "stdout",
     "output_type": "stream",
     "text": [
      "Iteration: \t78 / 100\n",
      "Confirmed: \t9\n",
      "Tentative: \t35\n",
      "Rejected: \t1402\n"
     ]
    },
    {
     "name": "stderr",
     "output_type": "stream",
     "text": [
      "C:\\Users\\user\\Anaconda3\\lib\\site-packages\\boruta\\boruta_py.py:418: RuntimeWarning: invalid value encountered in greater\n",
      "  hits = np.where(cur_imp[0] > imp_sha_max)[0]\n"
     ]
    },
    {
     "name": "stdout",
     "output_type": "stream",
     "text": [
      "Iteration: \t79 / 100\n",
      "Confirmed: \t9\n",
      "Tentative: \t35\n",
      "Rejected: \t1402\n"
     ]
    },
    {
     "name": "stderr",
     "output_type": "stream",
     "text": [
      "C:\\Users\\user\\Anaconda3\\lib\\site-packages\\boruta\\boruta_py.py:418: RuntimeWarning: invalid value encountered in greater\n",
      "  hits = np.where(cur_imp[0] > imp_sha_max)[0]\n"
     ]
    },
    {
     "name": "stdout",
     "output_type": "stream",
     "text": [
      "Iteration: \t80 / 100\n",
      "Confirmed: \t9\n",
      "Tentative: \t35\n",
      "Rejected: \t1402\n"
     ]
    },
    {
     "name": "stderr",
     "output_type": "stream",
     "text": [
      "C:\\Users\\user\\Anaconda3\\lib\\site-packages\\boruta\\boruta_py.py:418: RuntimeWarning: invalid value encountered in greater\n",
      "  hits = np.where(cur_imp[0] > imp_sha_max)[0]\n"
     ]
    },
    {
     "name": "stdout",
     "output_type": "stream",
     "text": [
      "Iteration: \t81 / 100\n",
      "Confirmed: \t9\n",
      "Tentative: \t35\n",
      "Rejected: \t1402\n"
     ]
    },
    {
     "name": "stderr",
     "output_type": "stream",
     "text": [
      "C:\\Users\\user\\Anaconda3\\lib\\site-packages\\boruta\\boruta_py.py:418: RuntimeWarning: invalid value encountered in greater\n",
      "  hits = np.where(cur_imp[0] > imp_sha_max)[0]\n"
     ]
    },
    {
     "name": "stdout",
     "output_type": "stream",
     "text": [
      "Iteration: \t82 / 100\n",
      "Confirmed: \t9\n",
      "Tentative: \t35\n",
      "Rejected: \t1402\n"
     ]
    },
    {
     "name": "stderr",
     "output_type": "stream",
     "text": [
      "C:\\Users\\user\\Anaconda3\\lib\\site-packages\\boruta\\boruta_py.py:418: RuntimeWarning: invalid value encountered in greater\n",
      "  hits = np.where(cur_imp[0] > imp_sha_max)[0]\n"
     ]
    },
    {
     "name": "stdout",
     "output_type": "stream",
     "text": [
      "Iteration: \t83 / 100\n",
      "Confirmed: \t9\n",
      "Tentative: \t35\n",
      "Rejected: \t1402\n"
     ]
    },
    {
     "name": "stderr",
     "output_type": "stream",
     "text": [
      "C:\\Users\\user\\Anaconda3\\lib\\site-packages\\boruta\\boruta_py.py:418: RuntimeWarning: invalid value encountered in greater\n",
      "  hits = np.where(cur_imp[0] > imp_sha_max)[0]\n"
     ]
    },
    {
     "name": "stdout",
     "output_type": "stream",
     "text": [
      "Iteration: \t84 / 100\n",
      "Confirmed: \t9\n",
      "Tentative: \t35\n",
      "Rejected: \t1402\n"
     ]
    },
    {
     "name": "stderr",
     "output_type": "stream",
     "text": [
      "C:\\Users\\user\\Anaconda3\\lib\\site-packages\\boruta\\boruta_py.py:418: RuntimeWarning: invalid value encountered in greater\n",
      "  hits = np.where(cur_imp[0] > imp_sha_max)[0]\n"
     ]
    },
    {
     "name": "stdout",
     "output_type": "stream",
     "text": [
      "Iteration: \t85 / 100\n",
      "Confirmed: \t9\n",
      "Tentative: \t35\n",
      "Rejected: \t1402\n"
     ]
    },
    {
     "name": "stderr",
     "output_type": "stream",
     "text": [
      "C:\\Users\\user\\Anaconda3\\lib\\site-packages\\boruta\\boruta_py.py:418: RuntimeWarning: invalid value encountered in greater\n",
      "  hits = np.where(cur_imp[0] > imp_sha_max)[0]\n"
     ]
    },
    {
     "name": "stdout",
     "output_type": "stream",
     "text": [
      "Iteration: \t86 / 100\n",
      "Confirmed: \t9\n",
      "Tentative: \t35\n",
      "Rejected: \t1402\n"
     ]
    },
    {
     "name": "stderr",
     "output_type": "stream",
     "text": [
      "C:\\Users\\user\\Anaconda3\\lib\\site-packages\\boruta\\boruta_py.py:418: RuntimeWarning: invalid value encountered in greater\n",
      "  hits = np.where(cur_imp[0] > imp_sha_max)[0]\n"
     ]
    },
    {
     "name": "stdout",
     "output_type": "stream",
     "text": [
      "Iteration: \t87 / 100\n",
      "Confirmed: \t9\n",
      "Tentative: \t35\n",
      "Rejected: \t1402\n"
     ]
    },
    {
     "name": "stderr",
     "output_type": "stream",
     "text": [
      "C:\\Users\\user\\Anaconda3\\lib\\site-packages\\boruta\\boruta_py.py:418: RuntimeWarning: invalid value encountered in greater\n",
      "  hits = np.where(cur_imp[0] > imp_sha_max)[0]\n"
     ]
    },
    {
     "name": "stdout",
     "output_type": "stream",
     "text": [
      "Iteration: \t88 / 100\n",
      "Confirmed: \t9\n",
      "Tentative: \t35\n",
      "Rejected: \t1402\n"
     ]
    },
    {
     "name": "stderr",
     "output_type": "stream",
     "text": [
      "C:\\Users\\user\\Anaconda3\\lib\\site-packages\\boruta\\boruta_py.py:418: RuntimeWarning: invalid value encountered in greater\n",
      "  hits = np.where(cur_imp[0] > imp_sha_max)[0]\n"
     ]
    },
    {
     "name": "stdout",
     "output_type": "stream",
     "text": [
      "Iteration: \t89 / 100\n",
      "Confirmed: \t9\n",
      "Tentative: \t35\n",
      "Rejected: \t1402\n"
     ]
    },
    {
     "name": "stderr",
     "output_type": "stream",
     "text": [
      "C:\\Users\\user\\Anaconda3\\lib\\site-packages\\boruta\\boruta_py.py:418: RuntimeWarning: invalid value encountered in greater\n",
      "  hits = np.where(cur_imp[0] > imp_sha_max)[0]\n"
     ]
    },
    {
     "name": "stdout",
     "output_type": "stream",
     "text": [
      "Iteration: \t90 / 100\n",
      "Confirmed: \t9\n",
      "Tentative: \t35\n",
      "Rejected: \t1402\n"
     ]
    },
    {
     "name": "stderr",
     "output_type": "stream",
     "text": [
      "C:\\Users\\user\\Anaconda3\\lib\\site-packages\\boruta\\boruta_py.py:418: RuntimeWarning: invalid value encountered in greater\n",
      "  hits = np.where(cur_imp[0] > imp_sha_max)[0]\n"
     ]
    },
    {
     "name": "stdout",
     "output_type": "stream",
     "text": [
      "Iteration: \t91 / 100\n",
      "Confirmed: \t9\n",
      "Tentative: \t35\n",
      "Rejected: \t1402\n"
     ]
    },
    {
     "name": "stderr",
     "output_type": "stream",
     "text": [
      "C:\\Users\\user\\Anaconda3\\lib\\site-packages\\boruta\\boruta_py.py:418: RuntimeWarning: invalid value encountered in greater\n",
      "  hits = np.where(cur_imp[0] > imp_sha_max)[0]\n"
     ]
    },
    {
     "name": "stdout",
     "output_type": "stream",
     "text": [
      "Iteration: \t92 / 100\n",
      "Confirmed: \t9\n",
      "Tentative: \t35\n",
      "Rejected: \t1402\n"
     ]
    },
    {
     "name": "stderr",
     "output_type": "stream",
     "text": [
      "C:\\Users\\user\\Anaconda3\\lib\\site-packages\\boruta\\boruta_py.py:418: RuntimeWarning: invalid value encountered in greater\n",
      "  hits = np.where(cur_imp[0] > imp_sha_max)[0]\n"
     ]
    },
    {
     "name": "stdout",
     "output_type": "stream",
     "text": [
      "Iteration: \t93 / 100\n",
      "Confirmed: \t9\n",
      "Tentative: \t35\n",
      "Rejected: \t1402\n"
     ]
    },
    {
     "name": "stderr",
     "output_type": "stream",
     "text": [
      "C:\\Users\\user\\Anaconda3\\lib\\site-packages\\boruta\\boruta_py.py:418: RuntimeWarning: invalid value encountered in greater\n",
      "  hits = np.where(cur_imp[0] > imp_sha_max)[0]\n"
     ]
    },
    {
     "name": "stdout",
     "output_type": "stream",
     "text": [
      "Iteration: \t94 / 100\n",
      "Confirmed: \t9\n",
      "Tentative: \t35\n",
      "Rejected: \t1402\n"
     ]
    },
    {
     "name": "stderr",
     "output_type": "stream",
     "text": [
      "C:\\Users\\user\\Anaconda3\\lib\\site-packages\\boruta\\boruta_py.py:418: RuntimeWarning: invalid value encountered in greater\n",
      "  hits = np.where(cur_imp[0] > imp_sha_max)[0]\n"
     ]
    },
    {
     "name": "stdout",
     "output_type": "stream",
     "text": [
      "Iteration: \t95 / 100\n",
      "Confirmed: \t10\n",
      "Tentative: \t34\n",
      "Rejected: \t1402\n"
     ]
    },
    {
     "name": "stderr",
     "output_type": "stream",
     "text": [
      "C:\\Users\\user\\Anaconda3\\lib\\site-packages\\boruta\\boruta_py.py:418: RuntimeWarning: invalid value encountered in greater\n",
      "  hits = np.where(cur_imp[0] > imp_sha_max)[0]\n"
     ]
    },
    {
     "name": "stdout",
     "output_type": "stream",
     "text": [
      "Iteration: \t96 / 100\n",
      "Confirmed: \t10\n",
      "Tentative: \t34\n",
      "Rejected: \t1402\n"
     ]
    },
    {
     "name": "stderr",
     "output_type": "stream",
     "text": [
      "C:\\Users\\user\\Anaconda3\\lib\\site-packages\\boruta\\boruta_py.py:418: RuntimeWarning: invalid value encountered in greater\n",
      "  hits = np.where(cur_imp[0] > imp_sha_max)[0]\n"
     ]
    },
    {
     "name": "stdout",
     "output_type": "stream",
     "text": [
      "Iteration: \t97 / 100\n",
      "Confirmed: \t10\n",
      "Tentative: \t34\n",
      "Rejected: \t1402\n"
     ]
    },
    {
     "name": "stderr",
     "output_type": "stream",
     "text": [
      "C:\\Users\\user\\Anaconda3\\lib\\site-packages\\boruta\\boruta_py.py:418: RuntimeWarning: invalid value encountered in greater\n",
      "  hits = np.where(cur_imp[0] > imp_sha_max)[0]\n"
     ]
    },
    {
     "name": "stdout",
     "output_type": "stream",
     "text": [
      "Iteration: \t98 / 100\n",
      "Confirmed: \t10\n",
      "Tentative: \t34\n",
      "Rejected: \t1402\n",
      "Iteration: \t99 / 100\n",
      "Confirmed: \t10\n",
      "Tentative: \t34\n",
      "Rejected: \t1402\n",
      "\n",
      "\n",
      "BorutaPy finished running.\n",
      "\n",
      "Iteration: \t100 / 100\n",
      "Confirmed: \t10\n",
      "Tentative: \t8\n",
      "Rejected: \t1402\n"
     ]
    },
    {
     "name": "stderr",
     "output_type": "stream",
     "text": [
      "C:\\Users\\user\\Anaconda3\\lib\\site-packages\\boruta\\boruta_py.py:418: RuntimeWarning: invalid value encountered in greater\n",
      "  hits = np.where(cur_imp[0] > imp_sha_max)[0]\n"
     ]
    },
    {
     "data": {
      "text/plain": [
       "BorutaPy(alpha=0.05,\n",
       "     estimator=RandomForestClassifier(bootstrap=True, class_weight='balanced',\n",
       "            criterion='gini', max_depth=4, max_features='auto',\n",
       "            max_leaf_nodes=None, min_impurity_decrease=0.0,\n",
       "            min_impurity_split=None, min_samples_leaf=1,\n",
       "            min_samples_split=2, min_weight_fraction_leaf=0.0,\n",
       "            n_estimators=30, n_jobs=-1, oob_score=False,\n",
       "            random_state=<mtrand.RandomState object at 0x0000029BFA44C7E0>,\n",
       "            verbose=0, warm_start=False),\n",
       "     max_iter=100, n_estimators=30, perc=100,\n",
       "     random_state=<mtrand.RandomState object at 0x0000029BFA44C7E0>,\n",
       "     two_step=True, verbose=2)"
      ]
     },
     "execution_count": 28,
     "metadata": {},
     "output_type": "execute_result"
    }
   ],
   "source": [
    "rf = RandomForestClassifier(n_jobs=-1, class_weight='balanced', max_depth=4)\n",
    "\n",
    "feat_selector = BorutaPy(rf, n_estimators = 30, verbose=2, random_state=seed)\n",
    "\n",
    "feat_selector.fit(fs_B_X, fs_B_y)"
   ]
  },
  {
   "cell_type": "markdown",
   "metadata": {},
   "source": [
    "### Combining individual data and household data"
   ]
  },
  {
   "cell_type": "code",
   "execution_count": 29,
   "metadata": {},
   "outputs": [],
   "source": [
    "B = pd.concat((trnd[\"B_indiv\"].loc[:, feat_selector.support_], trnd['B_hhold']), 1)\n",
    "\n",
    "X_B = B.drop('poor', 1)\n",
    "\n",
    "y_B = B.poor\n",
    "\n",
    "test_B = pd.concat((tstd['B_indiv'], tstd['B_hhold']), 1)[X_B.columns]"
   ]
  },
  {
   "cell_type": "code",
   "execution_count": 30,
   "metadata": {},
   "outputs": [
    {
     "name": "stdout",
     "output_type": "stream",
     "text": [
      "(3255, 1410) <class 'pandas.core.frame.DataFrame'>\n",
      "(1604, 1410) <class 'pandas.core.frame.DataFrame'>\n",
      "(3255,) <class 'pandas.core.series.Series'>\n"
     ]
    }
   ],
   "source": [
    "print(X_B.shape, type(X_B))\n",
    "print(test_B.shape, type(test_B))\n",
    "print(y_B.shape, type(y_B))"
   ]
  },
  {
   "cell_type": "markdown",
   "metadata": {},
   "source": [
    "# LGBM"
   ]
  },
  {
   "cell_type": "code",
   "execution_count": 31,
   "metadata": {},
   "outputs": [
    {
     "name": "stdout",
     "output_type": "stream",
     "text": [
      "start CV\n",
      "Average log loss: 0.20897886773758048 stddev : 0.016922543817637678\n",
      "finish cv! : 99.58914852142334 seconds\n"
     ]
    }
   ],
   "source": [
    "print('start CV')\n",
    "start = time.time()\n",
    "\n",
    "kfold = StratifiedKFold(n_splits=10, shuffle=True, random_state=seed)\n",
    "\n",
    "lgbm_B = []\n",
    "\n",
    "best_round = []\n",
    "\n",
    "for train, test in kfold.split(X_B.values, y_B.values):\n",
    "\n",
    "    lgb_train = lgb.Dataset(X_B.values[train], y_B.values[train], free_raw_data=False)\n",
    "\n",
    "    lgb_eval = lgb.Dataset(X_B.values[test], y_B.values[test], reference=lgb_train, free_raw_data=False)\n",
    "\n",
    "    params = {'boosting_type': 'dart',\n",
    "              'objective': 'binary',\n",
    "              'metric': 'binary_logloss',\n",
    "              'num_leaves': 31,\n",
    "              'max_bin' : 500,\n",
    "              'feature_fraction': 0.9,\n",
    "              'bagging_fraction': 0.8,\n",
    "              'bagging_freq': 5,\n",
    "              'verbose': 1,\n",
    "              'lambda_l2' : 1,\n",
    "              'lambda_l1' : 1,\n",
    "              'is_unbalance' : False, \n",
    "              'learning_rate' : 0.015}\n",
    "\n",
    "    lgbm = lgb.train(params=params, \n",
    "                      train_set=lgb_train, \n",
    "                      num_boost_round=2000, \n",
    "                      valid_sets=lgb_eval, \n",
    "                      verbose_eval = 0,\n",
    "                      early_stopping_rounds = 200)\n",
    "    \n",
    "    best_round.append(lgbm.best_iteration)\n",
    "\n",
    "    lgbm_B.append(lgbm.best_score['valid_0']['binary_logloss'])\n",
    "\n",
    "print(\"Average log loss: {} stddev : {}\".format(np.mean(lgbm_B), np.std(lgbm_B)))\n",
    "\n",
    "print('finish cv! : {} seconds'.format(time.time() - start))"
   ]
  },
  {
   "cell_type": "code",
   "execution_count": 32,
   "metadata": {},
   "outputs": [],
   "source": [
    "# Train the whole data\n",
    "original_B = lgb.Dataset(X_B, y_B, free_raw_data=False)\n",
    "\n",
    "lgbm = lgb.train(train_set = original_B, num_boost_round=np.max(best_round), params = params)"
   ]
  },
  {
   "cell_type": "code",
   "execution_count": 33,
   "metadata": {
    "scrolled": true
   },
   "outputs": [],
   "source": [
    "sub_B = {'id' : test_B.index,\n",
    "         'poor' : lgbm.predict(test_B)}\n",
    "\n",
    "sub_B = pd.DataFrame(sub_B)"
   ]
  },
  {
   "cell_type": "code",
   "execution_count": 34,
   "metadata": {
    "scrolled": true
   },
   "outputs": [
    {
     "data": {
      "image/png": "[encoded data removed]",
      "text/plain": [
       "<matplotlib.figure.Figure at 0x29b815a13c8>"
      ]
     },
     "metadata": {},
     "output_type": "display_data"
    }
   ],
   "source": [
    "_ = sub_B.hist('poor')\n",
    "plt.show()"
   ]
  },
  {
   "cell_type": "markdown",
   "metadata": {},
   "source": [
    "# +++++++++++++++++++++++++++++++++++++++++++++++++++++"
   ]
  },
  {
   "cell_type": "markdown",
   "metadata": {},
   "source": [
    "# Country C"
   ]
  },
  {
   "cell_type": "markdown",
   "metadata": {},
   "source": [
    "### Feature selection"
   ]
  },
  {
   "cell_type": "code",
   "execution_count": 35,
   "metadata": {},
   "outputs": [],
   "source": [
    "fs_C_y = trnd['C_indiv'].pop('poor')\n",
    "fs_C_X = trnd['C_indiv'].values"
   ]
  },
  {
   "cell_type": "code",
   "execution_count": 36,
   "metadata": {},
   "outputs": [
    {
     "name": "stdout",
     "output_type": "stream",
     "text": [
      "Iteration: \t1 / 100\n",
      "Confirmed: \t0\n",
      "Tentative: \t299\n",
      "Rejected: \t0\n",
      "Iteration: \t2 / 100\n",
      "Confirmed: \t0\n",
      "Tentative: \t299\n",
      "Rejected: \t0\n",
      "Iteration: \t3 / 100\n",
      "Confirmed: \t0\n",
      "Tentative: \t299\n",
      "Rejected: \t0\n",
      "Iteration: \t4 / 100\n",
      "Confirmed: \t0\n",
      "Tentative: \t299\n",
      "Rejected: \t0\n",
      "Iteration: \t5 / 100\n",
      "Confirmed: \t0\n",
      "Tentative: \t299\n",
      "Rejected: \t0\n",
      "Iteration: \t6 / 100\n",
      "Confirmed: \t0\n",
      "Tentative: \t299\n",
      "Rejected: \t0\n",
      "Iteration: \t7 / 100\n",
      "Confirmed: \t0\n",
      "Tentative: \t299\n",
      "Rejected: \t0\n",
      "Iteration: \t8 / 100\n",
      "Confirmed: \t29\n",
      "Tentative: \t75\n",
      "Rejected: \t195\n"
     ]
    },
    {
     "name": "stderr",
     "output_type": "stream",
     "text": [
      "C:\\Users\\user\\Anaconda3\\lib\\site-packages\\boruta\\boruta_py.py:418: RuntimeWarning: invalid value encountered in greater\n",
      "  hits = np.where(cur_imp[0] > imp_sha_max)[0]\n"
     ]
    },
    {
     "name": "stdout",
     "output_type": "stream",
     "text": [
      "Iteration: \t9 / 100\n",
      "Confirmed: \t29\n",
      "Tentative: \t75\n",
      "Rejected: \t195\n"
     ]
    },
    {
     "name": "stderr",
     "output_type": "stream",
     "text": [
      "C:\\Users\\user\\Anaconda3\\lib\\site-packages\\boruta\\boruta_py.py:418: RuntimeWarning: invalid value encountered in greater\n",
      "  hits = np.where(cur_imp[0] > imp_sha_max)[0]\n"
     ]
    },
    {
     "name": "stdout",
     "output_type": "stream",
     "text": [
      "Iteration: \t10 / 100\n",
      "Confirmed: \t29\n",
      "Tentative: \t75\n",
      "Rejected: \t195\n"
     ]
    },
    {
     "name": "stderr",
     "output_type": "stream",
     "text": [
      "C:\\Users\\user\\Anaconda3\\lib\\site-packages\\boruta\\boruta_py.py:418: RuntimeWarning: invalid value encountered in greater\n",
      "  hits = np.where(cur_imp[0] > imp_sha_max)[0]\n"
     ]
    },
    {
     "name": "stdout",
     "output_type": "stream",
     "text": [
      "Iteration: \t11 / 100\n",
      "Confirmed: \t29\n",
      "Tentative: \t75\n",
      "Rejected: \t195\n"
     ]
    },
    {
     "name": "stderr",
     "output_type": "stream",
     "text": [
      "C:\\Users\\user\\Anaconda3\\lib\\site-packages\\boruta\\boruta_py.py:418: RuntimeWarning: invalid value encountered in greater\n",
      "  hits = np.where(cur_imp[0] > imp_sha_max)[0]\n"
     ]
    },
    {
     "name": "stdout",
     "output_type": "stream",
     "text": [
      "Iteration: \t12 / 100\n",
      "Confirmed: \t36\n",
      "Tentative: \t58\n",
      "Rejected: \t205\n"
     ]
    },
    {
     "name": "stderr",
     "output_type": "stream",
     "text": [
      "C:\\Users\\user\\Anaconda3\\lib\\site-packages\\boruta\\boruta_py.py:418: RuntimeWarning: invalid value encountered in greater\n",
      "  hits = np.where(cur_imp[0] > imp_sha_max)[0]\n"
     ]
    },
    {
     "name": "stdout",
     "output_type": "stream",
     "text": [
      "Iteration: \t13 / 100\n",
      "Confirmed: \t36\n",
      "Tentative: \t58\n",
      "Rejected: \t205\n"
     ]
    },
    {
     "name": "stderr",
     "output_type": "stream",
     "text": [
      "C:\\Users\\user\\Anaconda3\\lib\\site-packages\\boruta\\boruta_py.py:418: RuntimeWarning: invalid value encountered in greater\n",
      "  hits = np.where(cur_imp[0] > imp_sha_max)[0]\n"
     ]
    },
    {
     "name": "stdout",
     "output_type": "stream",
     "text": [
      "Iteration: \t14 / 100\n",
      "Confirmed: \t36\n",
      "Tentative: \t58\n",
      "Rejected: \t205\n"
     ]
    },
    {
     "name": "stderr",
     "output_type": "stream",
     "text": [
      "C:\\Users\\user\\Anaconda3\\lib\\site-packages\\boruta\\boruta_py.py:418: RuntimeWarning: invalid value encountered in greater\n",
      "  hits = np.where(cur_imp[0] > imp_sha_max)[0]\n"
     ]
    },
    {
     "name": "stdout",
     "output_type": "stream",
     "text": [
      "Iteration: \t15 / 100\n",
      "Confirmed: \t36\n",
      "Tentative: \t58\n",
      "Rejected: \t205\n"
     ]
    },
    {
     "name": "stderr",
     "output_type": "stream",
     "text": [
      "C:\\Users\\user\\Anaconda3\\lib\\site-packages\\boruta\\boruta_py.py:418: RuntimeWarning: invalid value encountered in greater\n",
      "  hits = np.where(cur_imp[0] > imp_sha_max)[0]\n"
     ]
    },
    {
     "name": "stdout",
     "output_type": "stream",
     "text": [
      "Iteration: \t16 / 100\n",
      "Confirmed: \t40\n",
      "Tentative: \t48\n",
      "Rejected: \t211\n"
     ]
    },
    {
     "name": "stderr",
     "output_type": "stream",
     "text": [
      "C:\\Users\\user\\Anaconda3\\lib\\site-packages\\boruta\\boruta_py.py:418: RuntimeWarning: invalid value encountered in greater\n",
      "  hits = np.where(cur_imp[0] > imp_sha_max)[0]\n"
     ]
    },
    {
     "name": "stdout",
     "output_type": "stream",
     "text": [
      "Iteration: \t17 / 100\n",
      "Confirmed: \t40\n",
      "Tentative: \t48\n",
      "Rejected: \t211\n"
     ]
    },
    {
     "name": "stderr",
     "output_type": "stream",
     "text": [
      "C:\\Users\\user\\Anaconda3\\lib\\site-packages\\boruta\\boruta_py.py:418: RuntimeWarning: invalid value encountered in greater\n",
      "  hits = np.where(cur_imp[0] > imp_sha_max)[0]\n"
     ]
    },
    {
     "name": "stdout",
     "output_type": "stream",
     "text": [
      "Iteration: \t18 / 100\n",
      "Confirmed: \t40\n",
      "Tentative: \t48\n",
      "Rejected: \t211\n"
     ]
    },
    {
     "name": "stderr",
     "output_type": "stream",
     "text": [
      "C:\\Users\\user\\Anaconda3\\lib\\site-packages\\boruta\\boruta_py.py:418: RuntimeWarning: invalid value encountered in greater\n",
      "  hits = np.where(cur_imp[0] > imp_sha_max)[0]\n"
     ]
    },
    {
     "name": "stdout",
     "output_type": "stream",
     "text": [
      "Iteration: \t19 / 100\n",
      "Confirmed: \t44\n",
      "Tentative: \t39\n",
      "Rejected: \t216\n"
     ]
    },
    {
     "name": "stderr",
     "output_type": "stream",
     "text": [
      "C:\\Users\\user\\Anaconda3\\lib\\site-packages\\boruta\\boruta_py.py:418: RuntimeWarning: invalid value encountered in greater\n",
      "  hits = np.where(cur_imp[0] > imp_sha_max)[0]\n"
     ]
    },
    {
     "name": "stdout",
     "output_type": "stream",
     "text": [
      "Iteration: \t20 / 100\n",
      "Confirmed: \t44\n",
      "Tentative: \t39\n",
      "Rejected: \t216\n"
     ]
    },
    {
     "name": "stderr",
     "output_type": "stream",
     "text": [
      "C:\\Users\\user\\Anaconda3\\lib\\site-packages\\boruta\\boruta_py.py:418: RuntimeWarning: invalid value encountered in greater\n",
      "  hits = np.where(cur_imp[0] > imp_sha_max)[0]\n"
     ]
    },
    {
     "name": "stdout",
     "output_type": "stream",
     "text": [
      "Iteration: \t21 / 100\n",
      "Confirmed: \t44\n",
      "Tentative: \t39\n",
      "Rejected: \t216\n"
     ]
    },
    {
     "name": "stderr",
     "output_type": "stream",
     "text": [
      "C:\\Users\\user\\Anaconda3\\lib\\site-packages\\boruta\\boruta_py.py:418: RuntimeWarning: invalid value encountered in greater\n",
      "  hits = np.where(cur_imp[0] > imp_sha_max)[0]\n"
     ]
    },
    {
     "name": "stdout",
     "output_type": "stream",
     "text": [
      "Iteration: \t22 / 100\n",
      "Confirmed: \t46\n",
      "Tentative: \t37\n",
      "Rejected: \t216\n"
     ]
    },
    {
     "name": "stderr",
     "output_type": "stream",
     "text": [
      "C:\\Users\\user\\Anaconda3\\lib\\site-packages\\boruta\\boruta_py.py:418: RuntimeWarning: invalid value encountered in greater\n",
      "  hits = np.where(cur_imp[0] > imp_sha_max)[0]\n"
     ]
    },
    {
     "name": "stdout",
     "output_type": "stream",
     "text": [
      "Iteration: \t23 / 100\n",
      "Confirmed: \t46\n",
      "Tentative: \t37\n",
      "Rejected: \t216\n"
     ]
    },
    {
     "name": "stderr",
     "output_type": "stream",
     "text": [
      "C:\\Users\\user\\Anaconda3\\lib\\site-packages\\boruta\\boruta_py.py:418: RuntimeWarning: invalid value encountered in greater\n",
      "  hits = np.where(cur_imp[0] > imp_sha_max)[0]\n"
     ]
    },
    {
     "name": "stdout",
     "output_type": "stream",
     "text": [
      "Iteration: \t24 / 100\n",
      "Confirmed: \t46\n",
      "Tentative: \t37\n",
      "Rejected: \t216\n"
     ]
    },
    {
     "name": "stderr",
     "output_type": "stream",
     "text": [
      "C:\\Users\\user\\Anaconda3\\lib\\site-packages\\boruta\\boruta_py.py:418: RuntimeWarning: invalid value encountered in greater\n",
      "  hits = np.where(cur_imp[0] > imp_sha_max)[0]\n"
     ]
    },
    {
     "name": "stdout",
     "output_type": "stream",
     "text": [
      "Iteration: \t25 / 100\n",
      "Confirmed: \t46\n",
      "Tentative: \t36\n",
      "Rejected: \t217\n"
     ]
    },
    {
     "name": "stderr",
     "output_type": "stream",
     "text": [
      "C:\\Users\\user\\Anaconda3\\lib\\site-packages\\boruta\\boruta_py.py:418: RuntimeWarning: invalid value encountered in greater\n",
      "  hits = np.where(cur_imp[0] > imp_sha_max)[0]\n"
     ]
    },
    {
     "name": "stdout",
     "output_type": "stream",
     "text": [
      "Iteration: \t26 / 100\n",
      "Confirmed: \t48\n",
      "Tentative: \t34\n",
      "Rejected: \t217\n"
     ]
    },
    {
     "name": "stderr",
     "output_type": "stream",
     "text": [
      "C:\\Users\\user\\Anaconda3\\lib\\site-packages\\boruta\\boruta_py.py:418: RuntimeWarning: invalid value encountered in greater\n",
      "  hits = np.where(cur_imp[0] > imp_sha_max)[0]\n"
     ]
    },
    {
     "name": "stdout",
     "output_type": "stream",
     "text": [
      "Iteration: \t27 / 100\n",
      "Confirmed: \t48\n",
      "Tentative: \t34\n",
      "Rejected: \t217\n"
     ]
    },
    {
     "name": "stderr",
     "output_type": "stream",
     "text": [
      "C:\\Users\\user\\Anaconda3\\lib\\site-packages\\boruta\\boruta_py.py:418: RuntimeWarning: invalid value encountered in greater\n",
      "  hits = np.where(cur_imp[0] > imp_sha_max)[0]\n"
     ]
    },
    {
     "name": "stdout",
     "output_type": "stream",
     "text": [
      "Iteration: \t28 / 100\n",
      "Confirmed: \t48\n",
      "Tentative: \t34\n",
      "Rejected: \t217\n"
     ]
    },
    {
     "name": "stderr",
     "output_type": "stream",
     "text": [
      "C:\\Users\\user\\Anaconda3\\lib\\site-packages\\boruta\\boruta_py.py:418: RuntimeWarning: invalid value encountered in greater\n",
      "  hits = np.where(cur_imp[0] > imp_sha_max)[0]\n"
     ]
    },
    {
     "name": "stdout",
     "output_type": "stream",
     "text": [
      "Iteration: \t29 / 100\n",
      "Confirmed: \t48\n",
      "Tentative: \t34\n",
      "Rejected: \t217\n"
     ]
    },
    {
     "name": "stderr",
     "output_type": "stream",
     "text": [
      "C:\\Users\\user\\Anaconda3\\lib\\site-packages\\boruta\\boruta_py.py:418: RuntimeWarning: invalid value encountered in greater\n",
      "  hits = np.where(cur_imp[0] > imp_sha_max)[0]\n"
     ]
    },
    {
     "name": "stdout",
     "output_type": "stream",
     "text": [
      "Iteration: \t30 / 100\n",
      "Confirmed: \t48\n",
      "Tentative: \t34\n",
      "Rejected: \t217\n"
     ]
    },
    {
     "name": "stderr",
     "output_type": "stream",
     "text": [
      "C:\\Users\\user\\Anaconda3\\lib\\site-packages\\boruta\\boruta_py.py:418: RuntimeWarning: invalid value encountered in greater\n",
      "  hits = np.where(cur_imp[0] > imp_sha_max)[0]\n"
     ]
    },
    {
     "name": "stdout",
     "output_type": "stream",
     "text": [
      "Iteration: \t31 / 100\n",
      "Confirmed: \t48\n",
      "Tentative: \t33\n",
      "Rejected: \t218\n"
     ]
    },
    {
     "name": "stderr",
     "output_type": "stream",
     "text": [
      "C:\\Users\\user\\Anaconda3\\lib\\site-packages\\boruta\\boruta_py.py:418: RuntimeWarning: invalid value encountered in greater\n",
      "  hits = np.where(cur_imp[0] > imp_sha_max)[0]\n"
     ]
    },
    {
     "name": "stdout",
     "output_type": "stream",
     "text": [
      "Iteration: \t32 / 100\n",
      "Confirmed: \t48\n",
      "Tentative: \t33\n",
      "Rejected: \t218\n"
     ]
    },
    {
     "name": "stderr",
     "output_type": "stream",
     "text": [
      "C:\\Users\\user\\Anaconda3\\lib\\site-packages\\boruta\\boruta_py.py:418: RuntimeWarning: invalid value encountered in greater\n",
      "  hits = np.where(cur_imp[0] > imp_sha_max)[0]\n"
     ]
    },
    {
     "name": "stdout",
     "output_type": "stream",
     "text": [
      "Iteration: \t33 / 100\n",
      "Confirmed: \t48\n",
      "Tentative: \t33\n",
      "Rejected: \t218\n"
     ]
    },
    {
     "name": "stderr",
     "output_type": "stream",
     "text": [
      "C:\\Users\\user\\Anaconda3\\lib\\site-packages\\boruta\\boruta_py.py:418: RuntimeWarning: invalid value encountered in greater\n",
      "  hits = np.where(cur_imp[0] > imp_sha_max)[0]\n"
     ]
    },
    {
     "name": "stdout",
     "output_type": "stream",
     "text": [
      "Iteration: \t34 / 100\n",
      "Confirmed: \t49\n",
      "Tentative: \t32\n",
      "Rejected: \t218\n"
     ]
    },
    {
     "name": "stderr",
     "output_type": "stream",
     "text": [
      "C:\\Users\\user\\Anaconda3\\lib\\site-packages\\boruta\\boruta_py.py:418: RuntimeWarning: invalid value encountered in greater\n",
      "  hits = np.where(cur_imp[0] > imp_sha_max)[0]\n"
     ]
    },
    {
     "name": "stdout",
     "output_type": "stream",
     "text": [
      "Iteration: \t35 / 100\n",
      "Confirmed: \t49\n",
      "Tentative: \t32\n",
      "Rejected: \t218\n"
     ]
    },
    {
     "name": "stderr",
     "output_type": "stream",
     "text": [
      "C:\\Users\\user\\Anaconda3\\lib\\site-packages\\boruta\\boruta_py.py:418: RuntimeWarning: invalid value encountered in greater\n",
      "  hits = np.where(cur_imp[0] > imp_sha_max)[0]\n"
     ]
    },
    {
     "name": "stdout",
     "output_type": "stream",
     "text": [
      "Iteration: \t36 / 100\n",
      "Confirmed: \t49\n",
      "Tentative: \t32\n",
      "Rejected: \t218\n"
     ]
    },
    {
     "name": "stderr",
     "output_type": "stream",
     "text": [
      "C:\\Users\\user\\Anaconda3\\lib\\site-packages\\boruta\\boruta_py.py:418: RuntimeWarning: invalid value encountered in greater\n",
      "  hits = np.where(cur_imp[0] > imp_sha_max)[0]\n"
     ]
    },
    {
     "name": "stdout",
     "output_type": "stream",
     "text": [
      "Iteration: \t37 / 100\n",
      "Confirmed: \t50\n",
      "Tentative: \t31\n",
      "Rejected: \t218\n"
     ]
    },
    {
     "name": "stderr",
     "output_type": "stream",
     "text": [
      "C:\\Users\\user\\Anaconda3\\lib\\site-packages\\boruta\\boruta_py.py:418: RuntimeWarning: invalid value encountered in greater\n",
      "  hits = np.where(cur_imp[0] > imp_sha_max)[0]\n"
     ]
    },
    {
     "name": "stdout",
     "output_type": "stream",
     "text": [
      "Iteration: \t38 / 100\n",
      "Confirmed: \t50\n",
      "Tentative: \t31\n",
      "Rejected: \t218\n"
     ]
    },
    {
     "name": "stderr",
     "output_type": "stream",
     "text": [
      "C:\\Users\\user\\Anaconda3\\lib\\site-packages\\boruta\\boruta_py.py:418: RuntimeWarning: invalid value encountered in greater\n",
      "  hits = np.where(cur_imp[0] > imp_sha_max)[0]\n"
     ]
    },
    {
     "name": "stdout",
     "output_type": "stream",
     "text": [
      "Iteration: \t39 / 100\n",
      "Confirmed: \t50\n",
      "Tentative: \t30\n",
      "Rejected: \t219\n"
     ]
    },
    {
     "name": "stderr",
     "output_type": "stream",
     "text": [
      "C:\\Users\\user\\Anaconda3\\lib\\site-packages\\boruta\\boruta_py.py:418: RuntimeWarning: invalid value encountered in greater\n",
      "  hits = np.where(cur_imp[0] > imp_sha_max)[0]\n"
     ]
    },
    {
     "name": "stdout",
     "output_type": "stream",
     "text": [
      "Iteration: \t40 / 100\n",
      "Confirmed: \t50\n",
      "Tentative: \t30\n",
      "Rejected: \t219\n"
     ]
    },
    {
     "name": "stderr",
     "output_type": "stream",
     "text": [
      "C:\\Users\\user\\Anaconda3\\lib\\site-packages\\boruta\\boruta_py.py:418: RuntimeWarning: invalid value encountered in greater\n",
      "  hits = np.where(cur_imp[0] > imp_sha_max)[0]\n"
     ]
    },
    {
     "name": "stdout",
     "output_type": "stream",
     "text": [
      "Iteration: \t41 / 100\n",
      "Confirmed: \t50\n",
      "Tentative: \t30\n",
      "Rejected: \t219\n"
     ]
    },
    {
     "name": "stderr",
     "output_type": "stream",
     "text": [
      "C:\\Users\\user\\Anaconda3\\lib\\site-packages\\boruta\\boruta_py.py:418: RuntimeWarning: invalid value encountered in greater\n",
      "  hits = np.where(cur_imp[0] > imp_sha_max)[0]\n"
     ]
    },
    {
     "name": "stdout",
     "output_type": "stream",
     "text": [
      "Iteration: \t42 / 100\n",
      "Confirmed: \t50\n",
      "Tentative: \t30\n",
      "Rejected: \t219\n"
     ]
    },
    {
     "name": "stderr",
     "output_type": "stream",
     "text": [
      "C:\\Users\\user\\Anaconda3\\lib\\site-packages\\boruta\\boruta_py.py:418: RuntimeWarning: invalid value encountered in greater\n",
      "  hits = np.where(cur_imp[0] > imp_sha_max)[0]\n"
     ]
    },
    {
     "name": "stdout",
     "output_type": "stream",
     "text": [
      "Iteration: \t43 / 100\n",
      "Confirmed: \t50\n",
      "Tentative: \t28\n",
      "Rejected: \t221\n"
     ]
    },
    {
     "name": "stderr",
     "output_type": "stream",
     "text": [
      "C:\\Users\\user\\Anaconda3\\lib\\site-packages\\boruta\\boruta_py.py:418: RuntimeWarning: invalid value encountered in greater\n",
      "  hits = np.where(cur_imp[0] > imp_sha_max)[0]\n"
     ]
    },
    {
     "name": "stdout",
     "output_type": "stream",
     "text": [
      "Iteration: \t44 / 100\n",
      "Confirmed: \t50\n",
      "Tentative: \t28\n",
      "Rejected: \t221\n"
     ]
    },
    {
     "name": "stderr",
     "output_type": "stream",
     "text": [
      "C:\\Users\\user\\Anaconda3\\lib\\site-packages\\boruta\\boruta_py.py:418: RuntimeWarning: invalid value encountered in greater\n",
      "  hits = np.where(cur_imp[0] > imp_sha_max)[0]\n"
     ]
    },
    {
     "name": "stdout",
     "output_type": "stream",
     "text": [
      "Iteration: \t45 / 100\n",
      "Confirmed: \t50\n",
      "Tentative: \t28\n",
      "Rejected: \t221\n"
     ]
    },
    {
     "name": "stderr",
     "output_type": "stream",
     "text": [
      "C:\\Users\\user\\Anaconda3\\lib\\site-packages\\boruta\\boruta_py.py:418: RuntimeWarning: invalid value encountered in greater\n",
      "  hits = np.where(cur_imp[0] > imp_sha_max)[0]\n"
     ]
    },
    {
     "name": "stdout",
     "output_type": "stream",
     "text": [
      "Iteration: \t46 / 100\n",
      "Confirmed: \t50\n",
      "Tentative: \t28\n",
      "Rejected: \t221\n"
     ]
    },
    {
     "name": "stderr",
     "output_type": "stream",
     "text": [
      "C:\\Users\\user\\Anaconda3\\lib\\site-packages\\boruta\\boruta_py.py:418: RuntimeWarning: invalid value encountered in greater\n",
      "  hits = np.where(cur_imp[0] > imp_sha_max)[0]\n"
     ]
    },
    {
     "name": "stdout",
     "output_type": "stream",
     "text": [
      "Iteration: \t47 / 100\n",
      "Confirmed: \t50\n",
      "Tentative: \t28\n",
      "Rejected: \t221\n"
     ]
    },
    {
     "name": "stderr",
     "output_type": "stream",
     "text": [
      "C:\\Users\\user\\Anaconda3\\lib\\site-packages\\boruta\\boruta_py.py:418: RuntimeWarning: invalid value encountered in greater\n",
      "  hits = np.where(cur_imp[0] > imp_sha_max)[0]\n"
     ]
    },
    {
     "name": "stdout",
     "output_type": "stream",
     "text": [
      "Iteration: \t48 / 100\n",
      "Confirmed: \t50\n",
      "Tentative: \t28\n",
      "Rejected: \t221\n"
     ]
    },
    {
     "name": "stderr",
     "output_type": "stream",
     "text": [
      "C:\\Users\\user\\Anaconda3\\lib\\site-packages\\boruta\\boruta_py.py:418: RuntimeWarning: invalid value encountered in greater\n",
      "  hits = np.where(cur_imp[0] > imp_sha_max)[0]\n"
     ]
    },
    {
     "name": "stdout",
     "output_type": "stream",
     "text": [
      "Iteration: \t49 / 100\n",
      "Confirmed: \t50\n",
      "Tentative: \t25\n",
      "Rejected: \t224\n"
     ]
    },
    {
     "name": "stderr",
     "output_type": "stream",
     "text": [
      "C:\\Users\\user\\Anaconda3\\lib\\site-packages\\boruta\\boruta_py.py:418: RuntimeWarning: invalid value encountered in greater\n",
      "  hits = np.where(cur_imp[0] > imp_sha_max)[0]\n"
     ]
    },
    {
     "name": "stdout",
     "output_type": "stream",
     "text": [
      "Iteration: \t50 / 100\n",
      "Confirmed: \t50\n",
      "Tentative: \t25\n",
      "Rejected: \t224\n"
     ]
    },
    {
     "name": "stderr",
     "output_type": "stream",
     "text": [
      "C:\\Users\\user\\Anaconda3\\lib\\site-packages\\boruta\\boruta_py.py:418: RuntimeWarning: invalid value encountered in greater\n",
      "  hits = np.where(cur_imp[0] > imp_sha_max)[0]\n"
     ]
    },
    {
     "name": "stdout",
     "output_type": "stream",
     "text": [
      "Iteration: \t51 / 100\n",
      "Confirmed: \t50\n",
      "Tentative: \t23\n",
      "Rejected: \t226\n"
     ]
    },
    {
     "name": "stderr",
     "output_type": "stream",
     "text": [
      "C:\\Users\\user\\Anaconda3\\lib\\site-packages\\boruta\\boruta_py.py:418: RuntimeWarning: invalid value encountered in greater\n",
      "  hits = np.where(cur_imp[0] > imp_sha_max)[0]\n"
     ]
    },
    {
     "name": "stdout",
     "output_type": "stream",
     "text": [
      "Iteration: \t52 / 100\n",
      "Confirmed: \t50\n",
      "Tentative: \t23\n",
      "Rejected: \t226\n"
     ]
    },
    {
     "name": "stderr",
     "output_type": "stream",
     "text": [
      "C:\\Users\\user\\Anaconda3\\lib\\site-packages\\boruta\\boruta_py.py:418: RuntimeWarning: invalid value encountered in greater\n",
      "  hits = np.where(cur_imp[0] > imp_sha_max)[0]\n"
     ]
    },
    {
     "name": "stdout",
     "output_type": "stream",
     "text": [
      "Iteration: \t53 / 100\n",
      "Confirmed: \t50\n",
      "Tentative: \t23\n",
      "Rejected: \t226\n"
     ]
    },
    {
     "name": "stderr",
     "output_type": "stream",
     "text": [
      "C:\\Users\\user\\Anaconda3\\lib\\site-packages\\boruta\\boruta_py.py:418: RuntimeWarning: invalid value encountered in greater\n",
      "  hits = np.where(cur_imp[0] > imp_sha_max)[0]\n"
     ]
    },
    {
     "name": "stdout",
     "output_type": "stream",
     "text": [
      "Iteration: \t54 / 100\n",
      "Confirmed: \t52\n",
      "Tentative: \t21\n",
      "Rejected: \t226\n"
     ]
    },
    {
     "name": "stderr",
     "output_type": "stream",
     "text": [
      "C:\\Users\\user\\Anaconda3\\lib\\site-packages\\boruta\\boruta_py.py:418: RuntimeWarning: invalid value encountered in greater\n",
      "  hits = np.where(cur_imp[0] > imp_sha_max)[0]\n"
     ]
    },
    {
     "name": "stdout",
     "output_type": "stream",
     "text": [
      "Iteration: \t55 / 100\n",
      "Confirmed: \t52\n",
      "Tentative: \t21\n",
      "Rejected: \t226\n"
     ]
    },
    {
     "name": "stderr",
     "output_type": "stream",
     "text": [
      "C:\\Users\\user\\Anaconda3\\lib\\site-packages\\boruta\\boruta_py.py:418: RuntimeWarning: invalid value encountered in greater\n",
      "  hits = np.where(cur_imp[0] > imp_sha_max)[0]\n"
     ]
    },
    {
     "name": "stdout",
     "output_type": "stream",
     "text": [
      "Iteration: \t56 / 100\n",
      "Confirmed: \t52\n",
      "Tentative: \t21\n",
      "Rejected: \t226\n"
     ]
    },
    {
     "name": "stderr",
     "output_type": "stream",
     "text": [
      "C:\\Users\\user\\Anaconda3\\lib\\site-packages\\boruta\\boruta_py.py:418: RuntimeWarning: invalid value encountered in greater\n",
      "  hits = np.where(cur_imp[0] > imp_sha_max)[0]\n"
     ]
    },
    {
     "name": "stdout",
     "output_type": "stream",
     "text": [
      "Iteration: \t57 / 100\n",
      "Confirmed: \t52\n",
      "Tentative: \t21\n",
      "Rejected: \t226\n"
     ]
    },
    {
     "name": "stderr",
     "output_type": "stream",
     "text": [
      "C:\\Users\\user\\Anaconda3\\lib\\site-packages\\boruta\\boruta_py.py:418: RuntimeWarning: invalid value encountered in greater\n",
      "  hits = np.where(cur_imp[0] > imp_sha_max)[0]\n"
     ]
    },
    {
     "name": "stdout",
     "output_type": "stream",
     "text": [
      "Iteration: \t58 / 100\n",
      "Confirmed: \t52\n",
      "Tentative: \t21\n",
      "Rejected: \t226\n"
     ]
    },
    {
     "name": "stderr",
     "output_type": "stream",
     "text": [
      "C:\\Users\\user\\Anaconda3\\lib\\site-packages\\boruta\\boruta_py.py:418: RuntimeWarning: invalid value encountered in greater\n",
      "  hits = np.where(cur_imp[0] > imp_sha_max)[0]\n"
     ]
    },
    {
     "name": "stdout",
     "output_type": "stream",
     "text": [
      "Iteration: \t59 / 100\n",
      "Confirmed: \t52\n",
      "Tentative: \t21\n",
      "Rejected: \t226\n"
     ]
    },
    {
     "name": "stderr",
     "output_type": "stream",
     "text": [
      "C:\\Users\\user\\Anaconda3\\lib\\site-packages\\boruta\\boruta_py.py:418: RuntimeWarning: invalid value encountered in greater\n",
      "  hits = np.where(cur_imp[0] > imp_sha_max)[0]\n"
     ]
    },
    {
     "name": "stdout",
     "output_type": "stream",
     "text": [
      "Iteration: \t60 / 100\n",
      "Confirmed: \t52\n",
      "Tentative: \t20\n",
      "Rejected: \t227\n"
     ]
    },
    {
     "name": "stderr",
     "output_type": "stream",
     "text": [
      "C:\\Users\\user\\Anaconda3\\lib\\site-packages\\boruta\\boruta_py.py:418: RuntimeWarning: invalid value encountered in greater\n",
      "  hits = np.where(cur_imp[0] > imp_sha_max)[0]\n"
     ]
    },
    {
     "name": "stdout",
     "output_type": "stream",
     "text": [
      "Iteration: \t61 / 100\n",
      "Confirmed: \t52\n",
      "Tentative: \t20\n",
      "Rejected: \t227\n"
     ]
    },
    {
     "name": "stderr",
     "output_type": "stream",
     "text": [
      "C:\\Users\\user\\Anaconda3\\lib\\site-packages\\boruta\\boruta_py.py:418: RuntimeWarning: invalid value encountered in greater\n",
      "  hits = np.where(cur_imp[0] > imp_sha_max)[0]\n"
     ]
    },
    {
     "name": "stdout",
     "output_type": "stream",
     "text": [
      "Iteration: \t62 / 100\n",
      "Confirmed: \t52\n",
      "Tentative: \t20\n",
      "Rejected: \t227\n"
     ]
    },
    {
     "name": "stderr",
     "output_type": "stream",
     "text": [
      "C:\\Users\\user\\Anaconda3\\lib\\site-packages\\boruta\\boruta_py.py:418: RuntimeWarning: invalid value encountered in greater\n",
      "  hits = np.where(cur_imp[0] > imp_sha_max)[0]\n"
     ]
    },
    {
     "name": "stdout",
     "output_type": "stream",
     "text": [
      "Iteration: \t63 / 100\n",
      "Confirmed: \t52\n",
      "Tentative: \t20\n",
      "Rejected: \t227\n"
     ]
    },
    {
     "name": "stderr",
     "output_type": "stream",
     "text": [
      "C:\\Users\\user\\Anaconda3\\lib\\site-packages\\boruta\\boruta_py.py:418: RuntimeWarning: invalid value encountered in greater\n",
      "  hits = np.where(cur_imp[0] > imp_sha_max)[0]\n"
     ]
    },
    {
     "name": "stdout",
     "output_type": "stream",
     "text": [
      "Iteration: \t64 / 100\n",
      "Confirmed: \t52\n",
      "Tentative: \t20\n",
      "Rejected: \t227\n"
     ]
    },
    {
     "name": "stderr",
     "output_type": "stream",
     "text": [
      "C:\\Users\\user\\Anaconda3\\lib\\site-packages\\boruta\\boruta_py.py:418: RuntimeWarning: invalid value encountered in greater\n",
      "  hits = np.where(cur_imp[0] > imp_sha_max)[0]\n"
     ]
    },
    {
     "name": "stdout",
     "output_type": "stream",
     "text": [
      "Iteration: \t65 / 100\n",
      "Confirmed: \t52\n",
      "Tentative: \t20\n",
      "Rejected: \t227\n"
     ]
    },
    {
     "name": "stderr",
     "output_type": "stream",
     "text": [
      "C:\\Users\\user\\Anaconda3\\lib\\site-packages\\boruta\\boruta_py.py:418: RuntimeWarning: invalid value encountered in greater\n",
      "  hits = np.where(cur_imp[0] > imp_sha_max)[0]\n"
     ]
    },
    {
     "name": "stdout",
     "output_type": "stream",
     "text": [
      "Iteration: \t66 / 100\n",
      "Confirmed: \t52\n",
      "Tentative: \t20\n",
      "Rejected: \t227\n"
     ]
    },
    {
     "name": "stderr",
     "output_type": "stream",
     "text": [
      "C:\\Users\\user\\Anaconda3\\lib\\site-packages\\boruta\\boruta_py.py:418: RuntimeWarning: invalid value encountered in greater\n",
      "  hits = np.where(cur_imp[0] > imp_sha_max)[0]\n"
     ]
    },
    {
     "name": "stdout",
     "output_type": "stream",
     "text": [
      "Iteration: \t67 / 100\n",
      "Confirmed: \t53\n",
      "Tentative: \t19\n",
      "Rejected: \t227\n"
     ]
    },
    {
     "name": "stderr",
     "output_type": "stream",
     "text": [
      "C:\\Users\\user\\Anaconda3\\lib\\site-packages\\boruta\\boruta_py.py:418: RuntimeWarning: invalid value encountered in greater\n",
      "  hits = np.where(cur_imp[0] > imp_sha_max)[0]\n"
     ]
    },
    {
     "name": "stdout",
     "output_type": "stream",
     "text": [
      "Iteration: \t68 / 100\n",
      "Confirmed: \t53\n",
      "Tentative: \t19\n",
      "Rejected: \t227\n"
     ]
    },
    {
     "name": "stderr",
     "output_type": "stream",
     "text": [
      "C:\\Users\\user\\Anaconda3\\lib\\site-packages\\boruta\\boruta_py.py:418: RuntimeWarning: invalid value encountered in greater\n",
      "  hits = np.where(cur_imp[0] > imp_sha_max)[0]\n"
     ]
    },
    {
     "name": "stdout",
     "output_type": "stream",
     "text": [
      "Iteration: \t69 / 100\n",
      "Confirmed: \t53\n",
      "Tentative: \t19\n",
      "Rejected: \t227\n"
     ]
    },
    {
     "name": "stderr",
     "output_type": "stream",
     "text": [
      "C:\\Users\\user\\Anaconda3\\lib\\site-packages\\boruta\\boruta_py.py:418: RuntimeWarning: invalid value encountered in greater\n",
      "  hits = np.where(cur_imp[0] > imp_sha_max)[0]\n"
     ]
    },
    {
     "name": "stdout",
     "output_type": "stream",
     "text": [
      "Iteration: \t70 / 100\n",
      "Confirmed: \t53\n",
      "Tentative: \t18\n",
      "Rejected: \t228\n"
     ]
    },
    {
     "name": "stderr",
     "output_type": "stream",
     "text": [
      "C:\\Users\\user\\Anaconda3\\lib\\site-packages\\boruta\\boruta_py.py:418: RuntimeWarning: invalid value encountered in greater\n",
      "  hits = np.where(cur_imp[0] > imp_sha_max)[0]\n"
     ]
    },
    {
     "name": "stdout",
     "output_type": "stream",
     "text": [
      "Iteration: \t71 / 100\n",
      "Confirmed: \t53\n",
      "Tentative: \t18\n",
      "Rejected: \t228\n"
     ]
    },
    {
     "name": "stderr",
     "output_type": "stream",
     "text": [
      "C:\\Users\\user\\Anaconda3\\lib\\site-packages\\boruta\\boruta_py.py:418: RuntimeWarning: invalid value encountered in greater\n",
      "  hits = np.where(cur_imp[0] > imp_sha_max)[0]\n"
     ]
    },
    {
     "name": "stdout",
     "output_type": "stream",
     "text": [
      "Iteration: \t72 / 100\n",
      "Confirmed: \t53\n",
      "Tentative: \t18\n",
      "Rejected: \t228\n"
     ]
    },
    {
     "name": "stderr",
     "output_type": "stream",
     "text": [
      "C:\\Users\\user\\Anaconda3\\lib\\site-packages\\boruta\\boruta_py.py:418: RuntimeWarning: invalid value encountered in greater\n",
      "  hits = np.where(cur_imp[0] > imp_sha_max)[0]\n"
     ]
    },
    {
     "name": "stdout",
     "output_type": "stream",
     "text": [
      "Iteration: \t73 / 100\n",
      "Confirmed: \t53\n",
      "Tentative: \t18\n",
      "Rejected: \t228\n"
     ]
    },
    {
     "name": "stderr",
     "output_type": "stream",
     "text": [
      "C:\\Users\\user\\Anaconda3\\lib\\site-packages\\boruta\\boruta_py.py:418: RuntimeWarning: invalid value encountered in greater\n",
      "  hits = np.where(cur_imp[0] > imp_sha_max)[0]\n"
     ]
    },
    {
     "name": "stdout",
     "output_type": "stream",
     "text": [
      "Iteration: \t74 / 100\n",
      "Confirmed: \t53\n",
      "Tentative: \t18\n",
      "Rejected: \t228\n"
     ]
    },
    {
     "name": "stderr",
     "output_type": "stream",
     "text": [
      "C:\\Users\\user\\Anaconda3\\lib\\site-packages\\boruta\\boruta_py.py:418: RuntimeWarning: invalid value encountered in greater\n",
      "  hits = np.where(cur_imp[0] > imp_sha_max)[0]\n"
     ]
    },
    {
     "name": "stdout",
     "output_type": "stream",
     "text": [
      "Iteration: \t75 / 100\n",
      "Confirmed: \t53\n",
      "Tentative: \t18\n",
      "Rejected: \t228\n"
     ]
    },
    {
     "name": "stderr",
     "output_type": "stream",
     "text": [
      "C:\\Users\\user\\Anaconda3\\lib\\site-packages\\boruta\\boruta_py.py:418: RuntimeWarning: invalid value encountered in greater\n",
      "  hits = np.where(cur_imp[0] > imp_sha_max)[0]\n"
     ]
    },
    {
     "name": "stdout",
     "output_type": "stream",
     "text": [
      "Iteration: \t76 / 100\n",
      "Confirmed: \t53\n",
      "Tentative: \t18\n",
      "Rejected: \t228\n"
     ]
    },
    {
     "name": "stderr",
     "output_type": "stream",
     "text": [
      "C:\\Users\\user\\Anaconda3\\lib\\site-packages\\boruta\\boruta_py.py:418: RuntimeWarning: invalid value encountered in greater\n",
      "  hits = np.where(cur_imp[0] > imp_sha_max)[0]\n"
     ]
    },
    {
     "name": "stdout",
     "output_type": "stream",
     "text": [
      "Iteration: \t77 / 100\n",
      "Confirmed: \t54\n",
      "Tentative: \t17\n",
      "Rejected: \t228\n"
     ]
    },
    {
     "name": "stderr",
     "output_type": "stream",
     "text": [
      "C:\\Users\\user\\Anaconda3\\lib\\site-packages\\boruta\\boruta_py.py:418: RuntimeWarning: invalid value encountered in greater\n",
      "  hits = np.where(cur_imp[0] > imp_sha_max)[0]\n"
     ]
    },
    {
     "name": "stdout",
     "output_type": "stream",
     "text": [
      "Iteration: \t78 / 100\n",
      "Confirmed: \t54\n",
      "Tentative: \t17\n",
      "Rejected: \t228\n"
     ]
    },
    {
     "name": "stderr",
     "output_type": "stream",
     "text": [
      "C:\\Users\\user\\Anaconda3\\lib\\site-packages\\boruta\\boruta_py.py:418: RuntimeWarning: invalid value encountered in greater\n",
      "  hits = np.where(cur_imp[0] > imp_sha_max)[0]\n"
     ]
    },
    {
     "name": "stdout",
     "output_type": "stream",
     "text": [
      "Iteration: \t79 / 100\n",
      "Confirmed: \t54\n",
      "Tentative: \t17\n",
      "Rejected: \t228\n"
     ]
    },
    {
     "name": "stderr",
     "output_type": "stream",
     "text": [
      "C:\\Users\\user\\Anaconda3\\lib\\site-packages\\boruta\\boruta_py.py:418: RuntimeWarning: invalid value encountered in greater\n",
      "  hits = np.where(cur_imp[0] > imp_sha_max)[0]\n"
     ]
    },
    {
     "name": "stdout",
     "output_type": "stream",
     "text": [
      "Iteration: \t80 / 100\n",
      "Confirmed: \t55\n",
      "Tentative: \t16\n",
      "Rejected: \t228\n"
     ]
    },
    {
     "name": "stderr",
     "output_type": "stream",
     "text": [
      "C:\\Users\\user\\Anaconda3\\lib\\site-packages\\boruta\\boruta_py.py:418: RuntimeWarning: invalid value encountered in greater\n",
      "  hits = np.where(cur_imp[0] > imp_sha_max)[0]\n"
     ]
    },
    {
     "name": "stdout",
     "output_type": "stream",
     "text": [
      "Iteration: \t81 / 100\n",
      "Confirmed: \t55\n",
      "Tentative: \t16\n",
      "Rejected: \t228\n"
     ]
    },
    {
     "name": "stderr",
     "output_type": "stream",
     "text": [
      "C:\\Users\\user\\Anaconda3\\lib\\site-packages\\boruta\\boruta_py.py:418: RuntimeWarning: invalid value encountered in greater\n",
      "  hits = np.where(cur_imp[0] > imp_sha_max)[0]\n"
     ]
    },
    {
     "name": "stdout",
     "output_type": "stream",
     "text": [
      "Iteration: \t82 / 100\n",
      "Confirmed: \t55\n",
      "Tentative: \t16\n",
      "Rejected: \t228\n"
     ]
    },
    {
     "name": "stderr",
     "output_type": "stream",
     "text": [
      "C:\\Users\\user\\Anaconda3\\lib\\site-packages\\boruta\\boruta_py.py:418: RuntimeWarning: invalid value encountered in greater\n",
      "  hits = np.where(cur_imp[0] > imp_sha_max)[0]\n"
     ]
    },
    {
     "name": "stdout",
     "output_type": "stream",
     "text": [
      "Iteration: \t83 / 100\n",
      "Confirmed: \t56\n",
      "Tentative: \t15\n",
      "Rejected: \t228\n"
     ]
    },
    {
     "name": "stderr",
     "output_type": "stream",
     "text": [
      "C:\\Users\\user\\Anaconda3\\lib\\site-packages\\boruta\\boruta_py.py:418: RuntimeWarning: invalid value encountered in greater\n",
      "  hits = np.where(cur_imp[0] > imp_sha_max)[0]\n"
     ]
    },
    {
     "name": "stdout",
     "output_type": "stream",
     "text": [
      "Iteration: \t84 / 100\n",
      "Confirmed: \t56\n",
      "Tentative: \t15\n",
      "Rejected: \t228\n"
     ]
    },
    {
     "name": "stderr",
     "output_type": "stream",
     "text": [
      "C:\\Users\\user\\Anaconda3\\lib\\site-packages\\boruta\\boruta_py.py:418: RuntimeWarning: invalid value encountered in greater\n",
      "  hits = np.where(cur_imp[0] > imp_sha_max)[0]\n"
     ]
    },
    {
     "name": "stdout",
     "output_type": "stream",
     "text": [
      "Iteration: \t85 / 100\n",
      "Confirmed: \t56\n",
      "Tentative: \t15\n",
      "Rejected: \t228\n"
     ]
    },
    {
     "name": "stderr",
     "output_type": "stream",
     "text": [
      "C:\\Users\\user\\Anaconda3\\lib\\site-packages\\boruta\\boruta_py.py:418: RuntimeWarning: invalid value encountered in greater\n",
      "  hits = np.where(cur_imp[0] > imp_sha_max)[0]\n"
     ]
    },
    {
     "name": "stdout",
     "output_type": "stream",
     "text": [
      "Iteration: \t86 / 100\n",
      "Confirmed: \t56\n",
      "Tentative: \t15\n",
      "Rejected: \t228\n"
     ]
    },
    {
     "name": "stderr",
     "output_type": "stream",
     "text": [
      "C:\\Users\\user\\Anaconda3\\lib\\site-packages\\boruta\\boruta_py.py:418: RuntimeWarning: invalid value encountered in greater\n",
      "  hits = np.where(cur_imp[0] > imp_sha_max)[0]\n"
     ]
    },
    {
     "name": "stdout",
     "output_type": "stream",
     "text": [
      "Iteration: \t87 / 100\n",
      "Confirmed: \t56\n",
      "Tentative: \t15\n",
      "Rejected: \t228\n"
     ]
    },
    {
     "name": "stderr",
     "output_type": "stream",
     "text": [
      "C:\\Users\\user\\Anaconda3\\lib\\site-packages\\boruta\\boruta_py.py:418: RuntimeWarning: invalid value encountered in greater\n",
      "  hits = np.where(cur_imp[0] > imp_sha_max)[0]\n"
     ]
    },
    {
     "name": "stdout",
     "output_type": "stream",
     "text": [
      "Iteration: \t88 / 100\n",
      "Confirmed: \t56\n",
      "Tentative: \t15\n",
      "Rejected: \t228\n"
     ]
    },
    {
     "name": "stderr",
     "output_type": "stream",
     "text": [
      "C:\\Users\\user\\Anaconda3\\lib\\site-packages\\boruta\\boruta_py.py:418: RuntimeWarning: invalid value encountered in greater\n",
      "  hits = np.where(cur_imp[0] > imp_sha_max)[0]\n"
     ]
    },
    {
     "name": "stdout",
     "output_type": "stream",
     "text": [
      "Iteration: \t89 / 100\n",
      "Confirmed: \t56\n",
      "Tentative: \t15\n",
      "Rejected: \t228\n"
     ]
    },
    {
     "name": "stderr",
     "output_type": "stream",
     "text": [
      "C:\\Users\\user\\Anaconda3\\lib\\site-packages\\boruta\\boruta_py.py:418: RuntimeWarning: invalid value encountered in greater\n",
      "  hits = np.where(cur_imp[0] > imp_sha_max)[0]\n"
     ]
    },
    {
     "name": "stdout",
     "output_type": "stream",
     "text": [
      "Iteration: \t90 / 100\n",
      "Confirmed: \t56\n",
      "Tentative: \t15\n",
      "Rejected: \t228\n"
     ]
    },
    {
     "name": "stderr",
     "output_type": "stream",
     "text": [
      "C:\\Users\\user\\Anaconda3\\lib\\site-packages\\boruta\\boruta_py.py:418: RuntimeWarning: invalid value encountered in greater\n",
      "  hits = np.where(cur_imp[0] > imp_sha_max)[0]\n"
     ]
    },
    {
     "name": "stdout",
     "output_type": "stream",
     "text": [
      "Iteration: \t91 / 100\n",
      "Confirmed: \t56\n",
      "Tentative: \t15\n",
      "Rejected: \t228\n"
     ]
    },
    {
     "name": "stderr",
     "output_type": "stream",
     "text": [
      "C:\\Users\\user\\Anaconda3\\lib\\site-packages\\boruta\\boruta_py.py:418: RuntimeWarning: invalid value encountered in greater\n",
      "  hits = np.where(cur_imp[0] > imp_sha_max)[0]\n"
     ]
    },
    {
     "name": "stdout",
     "output_type": "stream",
     "text": [
      "Iteration: \t92 / 100\n",
      "Confirmed: \t56\n",
      "Tentative: \t15\n",
      "Rejected: \t228\n"
     ]
    },
    {
     "name": "stderr",
     "output_type": "stream",
     "text": [
      "C:\\Users\\user\\Anaconda3\\lib\\site-packages\\boruta\\boruta_py.py:418: RuntimeWarning: invalid value encountered in greater\n",
      "  hits = np.where(cur_imp[0] > imp_sha_max)[0]\n"
     ]
    },
    {
     "name": "stdout",
     "output_type": "stream",
     "text": [
      "Iteration: \t93 / 100\n",
      "Confirmed: \t56\n",
      "Tentative: \t15\n",
      "Rejected: \t228\n"
     ]
    },
    {
     "name": "stderr",
     "output_type": "stream",
     "text": [
      "C:\\Users\\user\\Anaconda3\\lib\\site-packages\\boruta\\boruta_py.py:418: RuntimeWarning: invalid value encountered in greater\n",
      "  hits = np.where(cur_imp[0] > imp_sha_max)[0]\n"
     ]
    },
    {
     "name": "stdout",
     "output_type": "stream",
     "text": [
      "Iteration: \t94 / 100\n",
      "Confirmed: \t56\n",
      "Tentative: \t15\n",
      "Rejected: \t228\n"
     ]
    },
    {
     "name": "stderr",
     "output_type": "stream",
     "text": [
      "C:\\Users\\user\\Anaconda3\\lib\\site-packages\\boruta\\boruta_py.py:418: RuntimeWarning: invalid value encountered in greater\n",
      "  hits = np.where(cur_imp[0] > imp_sha_max)[0]\n"
     ]
    },
    {
     "name": "stdout",
     "output_type": "stream",
     "text": [
      "Iteration: \t95 / 100\n",
      "Confirmed: \t56\n",
      "Tentative: \t15\n",
      "Rejected: \t228\n"
     ]
    },
    {
     "name": "stderr",
     "output_type": "stream",
     "text": [
      "C:\\Users\\user\\Anaconda3\\lib\\site-packages\\boruta\\boruta_py.py:418: RuntimeWarning: invalid value encountered in greater\n",
      "  hits = np.where(cur_imp[0] > imp_sha_max)[0]\n"
     ]
    },
    {
     "name": "stdout",
     "output_type": "stream",
     "text": [
      "Iteration: \t96 / 100\n",
      "Confirmed: \t56\n",
      "Tentative: \t15\n",
      "Rejected: \t228\n"
     ]
    },
    {
     "name": "stderr",
     "output_type": "stream",
     "text": [
      "C:\\Users\\user\\Anaconda3\\lib\\site-packages\\boruta\\boruta_py.py:418: RuntimeWarning: invalid value encountered in greater\n",
      "  hits = np.where(cur_imp[0] > imp_sha_max)[0]\n"
     ]
    },
    {
     "name": "stdout",
     "output_type": "stream",
     "text": [
      "Iteration: \t97 / 100\n",
      "Confirmed: \t56\n",
      "Tentative: \t15\n",
      "Rejected: \t228\n"
     ]
    },
    {
     "name": "stderr",
     "output_type": "stream",
     "text": [
      "C:\\Users\\user\\Anaconda3\\lib\\site-packages\\boruta\\boruta_py.py:418: RuntimeWarning: invalid value encountered in greater\n",
      "  hits = np.where(cur_imp[0] > imp_sha_max)[0]\n"
     ]
    },
    {
     "name": "stdout",
     "output_type": "stream",
     "text": [
      "Iteration: \t98 / 100\n",
      "Confirmed: \t56\n",
      "Tentative: \t15\n",
      "Rejected: \t228\n",
      "Iteration: \t99 / 100\n",
      "Confirmed: \t56\n",
      "Tentative: \t15\n",
      "Rejected: \t228\n",
      "\n",
      "\n",
      "BorutaPy finished running.\n",
      "\n",
      "Iteration: \t100 / 100\n",
      "Confirmed: \t56\n",
      "Tentative: \t9\n",
      "Rejected: \t228\n"
     ]
    },
    {
     "name": "stderr",
     "output_type": "stream",
     "text": [
      "C:\\Users\\user\\Anaconda3\\lib\\site-packages\\boruta\\boruta_py.py:418: RuntimeWarning: invalid value encountered in greater\n",
      "  hits = np.where(cur_imp[0] > imp_sha_max)[0]\n"
     ]
    },
    {
     "data": {
      "text/plain": [
       "BorutaPy(alpha=0.05,\n",
       "     estimator=RandomForestClassifier(bootstrap=True, class_weight='balanced',\n",
       "            criterion='gini', max_depth=4, max_features='auto',\n",
       "            max_leaf_nodes=None, min_impurity_decrease=0.0,\n",
       "            min_impurity_split=None, min_samples_leaf=1,\n",
       "            min_samples_split=2, min_weight_fraction_leaf=0.0,\n",
       "            n_estimators=30, n_jobs=-1, oob_score=False,\n",
       "            random_state=<mtrand.RandomState object at 0x0000029B8122F558>,\n",
       "            verbose=0, warm_start=False),\n",
       "     max_iter=100, n_estimators=30, perc=100,\n",
       "     random_state=<mtrand.RandomState object at 0x0000029B8122F558>,\n",
       "     two_step=True, verbose=2)"
      ]
     },
     "execution_count": 36,
     "metadata": {},
     "output_type": "execute_result"
    }
   ],
   "source": [
    "rf = RandomForestClassifier(n_jobs=-1, class_weight='balanced', max_depth=4)\n",
    "\n",
    "feat_selector = BorutaPy(rf, n_estimators = 30, verbose=2, random_state=seed)\n",
    "\n",
    "feat_selector.fit(fs_C_X, fs_C_y)"
   ]
  },
  {
   "cell_type": "markdown",
   "metadata": {},
   "source": [
    "### Combining individual data and household data"
   ]
  },
  {
   "cell_type": "code",
   "execution_count": 37,
   "metadata": {},
   "outputs": [],
   "source": [
    "C = pd.concat((trnd[\"C_indiv\"].loc[:, feat_selector.support_], trnd['C_hhold']), 1)\n",
    "\n",
    "X_C = C.drop('poor', 1)\n",
    "\n",
    "y_C = C.poor\n",
    "\n",
    "test_C = pd.concat((tstd['C_indiv'], tstd['C_hhold']), 1)[X_C.columns]"
   ]
  },
  {
   "cell_type": "code",
   "execution_count": 38,
   "metadata": {},
   "outputs": [
    {
     "name": "stdout",
     "output_type": "stream",
     "text": [
      "(6469, 816) <class 'pandas.core.frame.DataFrame'>\n",
      "(3187, 816) <class 'pandas.core.frame.DataFrame'>\n",
      "(6469,) <class 'pandas.core.series.Series'>\n"
     ]
    }
   ],
   "source": [
    "print(X_C.shape, type(X_C))\n",
    "print(test_C.shape, type(test_C))\n",
    "print(y_C.shape, type(y_C))"
   ]
  },
  {
   "cell_type": "markdown",
   "metadata": {},
   "source": [
    "# LGCM"
   ]
  },
  {
   "cell_type": "code",
   "execution_count": 39,
   "metadata": {},
   "outputs": [
    {
     "name": "stdout",
     "output_type": "stream",
     "text": [
      "start CV\n",
      "Average log loss: 0.018204726833898156 stddev : 0.008107329381193554\n",
      "finish cv! : 97.60625290870667 seconds\n"
     ]
    }
   ],
   "source": [
    "print('start CV')\n",
    "start = time.time()\n",
    "\n",
    "kfold = StratifiedKFold(n_splits=10, shuffle=True, random_state=seed)\n",
    "\n",
    "lgbm_C = []\n",
    "\n",
    "best_round = []\n",
    "\n",
    "for train, test in kfold.split(X_C.values, y_C.values):\n",
    "\n",
    "    lgb_train = lgb.Dataset(X_C.values[train], y_C.values[train], free_raw_data=False)\n",
    "\n",
    "    lgb_eval = lgb.Dataset(X_C.values[test], y_C.values[test], reference=lgb_train, free_raw_data=False)\n",
    "\n",
    "    params = {'boosting_type': 'dart',\n",
    "              'objective': 'binary',\n",
    "              'metric': 'binary_logloss',\n",
    "              'num_leaves': 31,\n",
    "              'max_bin' : 500,\n",
    "              'feature_fraction': 0.9,\n",
    "              'bagging_fraction': 0.8,\n",
    "              'bagging_freq': 5,\n",
    "              'verbose': 1,\n",
    "              'lambda_l2' : 1,\n",
    "              'lambda_l1' : 1,\n",
    "              'is_unbalance' : False, \n",
    "              'learning_rate' : 0.015}\n",
    "\n",
    "    lgbm = lgb.train(params=params, \n",
    "                      train_set=lgb_train, \n",
    "                      num_boost_round=2000, \n",
    "                      valid_sets=lgb_eval, \n",
    "                      verbose_eval = 0,\n",
    "                      early_stopping_rounds = 200)\n",
    "    \n",
    "    best_round.append(lgbm.best_iteration)\n",
    "\n",
    "    lgbm_C.append(lgbm.best_score['valid_0']['binary_logloss'])\n",
    "\n",
    "print(\"Average log loss: {} stddev : {}\".format(np.mean(lgbm_C), np.std(lgbm_C)))\n",
    "\n",
    "print('finish cv! : {} seconds'.format(time.time() - start))"
   ]
  },
  {
   "cell_type": "code",
   "execution_count": 40,
   "metadata": {},
   "outputs": [],
   "source": [
    "# Train the whole data\n",
    "original_C = lgb.Dataset(X_C, y_C, free_raw_data=False)\n",
    "\n",
    "lgbm = lgb.train(train_set = original_C, num_boost_round=np.max(best_round), params = params)"
   ]
  },
  {
   "cell_type": "code",
   "execution_count": 41,
   "metadata": {
    "scrolled": true
   },
   "outputs": [],
   "source": [
    "sub_C = {'id' : test_C.index,\n",
    "         'poor' : lgbm.predict(test_C)}\n",
    "\n",
    "sub_C = pd.DataFrame(sub_C)"
   ]
  },
  {
   "cell_type": "code",
   "execution_count": 42,
   "metadata": {
    "scrolled": true
   },
   "outputs": [
    {
     "data": {
      "image/png": "[encoded data removed]",
      "text/plain": [
       "<matplotlib.figure.Figure at 0x29b8131f908>"
      ]
     },
     "metadata": {},
     "output_type": "display_data"
    }
   ],
   "source": [
    "_ = sub_C.hist('poor')\n",
    "plt.show()"
   ]
  },
  {
   "cell_type": "markdown",
   "metadata": {},
   "source": [
    "# +++++++++++++++++++++++++++++++++++++++++++++++++++++"
   ]
  },
  {
   "cell_type": "markdown",
   "metadata": {},
   "source": [
    "# Expected log loss"
   ]
  },
  {
   "cell_type": "code",
   "execution_count": 43,
   "metadata": {},
   "outputs": [
    {
     "name": "stdout",
     "output_type": "stream",
     "text": [
      "Expected log loss : 0.13232501122133222\n"
     ]
    }
   ],
   "source": [
    "total = len(test_A) + len(test_B) + len(test_C)\n",
    "expected_log_loss = (np.mean(lgbm_A) * len(test_A) + np.mean(lgbm_B) * len(lgbm_B) + np.mean(lgbm_C) * len(test_C)) / total\n",
    "\n",
    "print(\"Expected log loss : {}\".format(expected_log_loss))"
   ]
  },
  {
   "cell_type": "markdown",
   "metadata": {},
   "source": [
    "# Final Submission"
   ]
  },
  {
   "cell_type": "code",
   "execution_count": 44,
   "metadata": {},
   "outputs": [
    {
     "name": "stdout",
     "output_type": "stream",
     "text": [
      "(8832, 2) (8832, 2)\n"
     ]
    }
   ],
   "source": [
    "prob_sub = pd.concat((sub_A, sub_B, sub_C), 0).reset_index()\n",
    "\n",
    "prob_sub.drop('index', 1, inplace = True)\n",
    "\n",
    "print(sub.shape, prob_sub.shape)\n",
    "\n",
    "prob_sub.id = prob_sub.id.astype('int')\n",
    "\n",
    "pd.merge(sub, prob_sub, on = 'id').set_index('id').to_csv('C:/Users/user/Desktop/Pover-T Tests Predicting Poverty/sub_lgbm.csv')"
   ]
  }
 ],
 "metadata": {
  "kernelspec": {
   "display_name": "Python 3",
   "language": "python",
   "name": "python3"
  },
  "language_info": {
   "codemirror_mode": {
    "name": "ipython",
    "version": 3
   },
   "file_extension": ".py",
   "mimetype": "text/x-python",
   "name": "python",
   "nbconvert_exporter": "python",
   "pygments_lexer": "ipython3",
   "version": "3.6.4"
  }
 },
 "nbformat": 4,
 "nbformat_minor": 2
}
